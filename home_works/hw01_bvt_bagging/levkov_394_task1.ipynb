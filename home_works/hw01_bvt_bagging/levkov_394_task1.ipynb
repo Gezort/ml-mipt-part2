{
 "cells": [
  {
   "cell_type": "markdown",
   "metadata": {},
   "source": [
    "МФТИ ФИВТ: Курс Машинное Обучение (осень, 2016), Арсений Ашуха, ars.ashuha@gmail.com"
   ]
  },
  {
   "cell_type": "markdown",
   "metadata": {},
   "source": [
    "<h1 align=\"center\">Organization Info</h1> "
   ]
  },
  {
   "cell_type": "markdown",
   "metadata": {},
   "source": [
    "**Дополнительный материал для выполнения дз**:\n",
    "- Hastie, The Elements of Statistical Learning, https://goo.gl/k3wfEU\n",
    "    - 2.9 Model Selection and the Bias–Variance Tradeoff \n",
    "    - 15 Random Forests\n",
    "- Соколов, Семинары по композиционным методам, https://goo.gl/sn8RyJ\n",
    "- Andrew Ng, Bias vs. Variance, https://goo.gl/1ISZ6Y\n",
    "\n",
    "**Оформление дз**: \n",
    "- Присылайте выполненное задание на почту ``ml.course.mipt@gmail.com``\n",
    "- Укажите тему письма в следующем формате ``ML2016_fall <номер_группы> <фамилия>``, к примеру -- ``ML2016_fall 401 ivanov``\n",
    "- Выполненное дз сохраните в файл ``<фамилия>_<группа>_task<номер>.ipnb``, к примеру -- ``ivanov_401_task1.ipnb``\n",
    "\n",
    "**Вопросы**:\n",
    "- Присылайте вопросы на почту ``ml.course.mipt@gmail.com``\n",
    "- Укажите тему письма в следующем формате ``ML2016_fall Question <Содержание вопроса>``\n",
    "\n",
    "--------\n",
    "- **PS1**: Мы используем автоматические фильтры, и просто не найдем ваше дз, если вы не аккуратно его подпишите.\n",
    "- **PS2**: Напоминаем, что дедлайны жесткие, письма пришедшие после автоматически удаляются =( чтобы соблазна не было "
   ]
  },
  {
   "cell_type": "markdown",
   "metadata": {},
   "source": [
    "<h1 align=\"center\">Check Questions</h1> "
   ]
  },
  {
   "cell_type": "markdown",
   "metadata": {},
   "source": [
    "Ответе на вопросы своими словами (загугленный материал надо пересказать), ответ обоснуйте (напишите и ОБЪЯСНИТЕ формулки если потребуется), если не выходит, то вернитесь к лекции дополнительным материалам:\n",
    "\n",
    "**Вопрос 1**: Какие формулы у шума, смещения, разброса? Какой смысл у этих компонент?\n",
    "\n",
    "$$\\underbrace{E_{x,y}(a^*(x) - y)^2}_{noise} + \\underbrace{E_{x,y}(\\overset{-}{a}(x) - a^*(x))^2}_{bias} +\n",
    "\\underbrace{E_{x,y}E_{X^l}(\\mu(X^l)(x) - \\overset{-}{a}(x))^2}_{variance}$$\n",
    "<br>\n",
    "Суть:\n",
    "- шум - насколько сильно размеченные ответы отличаются от наиболее вероятных, т.е. тех, которые бы предсказывал лучший алгоритм\n",
    "- смещение - насколько сильно сдвинуты ответы нашего алгоритма по сравнению с наиболее вероятными\n",
    "- разброс - насколько сильно разбросаны друг от друга ответы нашего алгоритма\n",
    "\n",
    "**Вопрос 2**: 4. Приведите пример семейства с маленьким смещением и большим разбросом. Приведите пример семейства с большим смещением и маленьким разбросом.\n",
    "\n",
    "1. Решающие деревья\n",
    "2. Линейные модели\n",
    "\n",
    "**Вопрос 3**: Как сгенерировать подвыборку с помощью бутстрапа?\n",
    "\n",
    "Применить метод выбора с возвращениями к начальной выборке.\n",
    "\n",
    "\n",
    "**Вопрос 4**: Что такое бэггинг?\n",
    "\n",
    "Метод обучения композиции алгоритмов, в котором каждый из алгоритмов обучается на своей подвыборке, сгенерированной с помощью бутстрапа; часто еще используется RSM. При этом ответ композиции алгоритмов определяется методом простого голосования.\n",
    "\n",
    "**Вопрос 5**:  Как соотносятся смещение разброс композиции, построенной с помощью бэггинга, со смещением и разбросом одного базового алгоритма?\n",
    "\n",
    "Смещение композиции совпадает со смещением базовых алгоритмов. Разброс композиции является суммой дисперсии ответов одного базового алгоритма и ковариации его ответов с ответами других базовых алгоритмов.\n",
    "\n",
    "Т.е. $variance = \\sum\\limits_{t=1}^{T} \\frac{1}{T} cov(b_T, b_t)$\n",
    "\n",
    "**Вопрос 6**: Как обучается случайный лес? В чем отличия от обычной процедуры построения решающих деревьев?\n",
    "\n",
    "Используются бэггинг и RSM: каждое дерево обучается на своей подвыборке. После этого ответы усредняются. Для оценки качества композиции используется out-of-bag score.\n",
    "\n",
    "**Вопрос 7**: Почему хорошими базовыми алгоритмами для бэггинга являются именно деревья?\n",
    "\n",
    "Потому что у них низкое смещение, эта модель достаточно гибкая и может хорошо фитить данные, а усреднение ответов и бэггинг делают разброс композиции меньше.\n",
    "\n",
    "**Вопрос 8**: Как оценить качество случайного леса с помощью out-of-bag-процедуры?\n",
    "\n",
    "Для каждого дерева мы знаем множество элементов, на которых оно обучалось (выбранных с помощью бустрапа). Для каждого элемента трейна возьмем те деревья, которые не использовали его при своем обучении. Посчитаем ответ композиции для этого элемента, используя только эти деревья. Это и будет out-of-bag score для данного элемента. Дальше просто сложим эти значения для всех элементов трейна.\n",
    "\n",
    "-----------\n",
    "PS: Если проверяющий не понял ответ на большинство вопросов, то будет пичалька. Пишите так, чтобы можно было разобраться. "
   ]
  },
  {
   "cell_type": "markdown",
   "metadata": {
    "collapsed": true
   },
   "source": [
    "<h1 align=\"center\">Bagging</h1> "
   ]
  },
  {
   "cell_type": "markdown",
   "metadata": {
    "collapsed": true
   },
   "source": [
    "Известно, что бэггинг плохо работает, если в качестве базовых классификаторов взять knn. Попробуем понять причины на простом примере.\n",
    "\n",
    "Пусть дана выборка $X^l$ из $l$ объектов с ответами из множества $Y = \\{−1, +1\\}$. Будем рассматривать классификатор одного ближайшего соседа в качестве базового алгоритма. Построим с помощью бэггинга композицию длины $N$:\n",
    "\n",
    "$$a_N(x) = sign(\\sum_{n=1}^{N} b_n(x))$$\n",
    "\n",
    "Оцените вероятность того, что ответ композиции на произвольном объекте x будет\n",
    "отличаться от ответа одного классификатора ближайшего соседа, обученного по всей\n",
    "выборке. Покажите, что эта вероятность стремится к нулю при N → ∞."
   ]
  },
  {
   "cell_type": "markdown",
   "metadata": {},
   "source": [
    "-----\n",
    "Пусть у нас есть вокруг объекта $x~k$ ближайших соседей с таким же классом, как и ближайший к $x$ сосед. БОО пусть это класс +1. <br>\n",
    "Тогда тот факт, что композиция дает ответ -1, говорит о том, что среди $N$ алгоритмов есть хотя бы $\\left\\lceil\\frac{N + 1}{2}\\right\\rceil$ таких, которые дают ответ -1.\n",
    "\n",
    "Будем при оценке считать, что каждый объект попадает в выборку, генерируемую бустрапом, с вероятностью $p. ~ (0 < p < 1)$ <br>\n",
    "Тогда вероятность того, что ответы композиции и 1-NN отличаются, равна \n",
    "$((1 - p)^k)^\\left\\lceil\\frac{N + 1}{2}\\right\\rceil$, что очевидно стремится к 0 при $N \\to \\infty$\n"
   ]
  },
  {
   "cell_type": "markdown",
   "metadata": {},
   "source": [
    "<h1 align=\"center\">Bagging Implementation</h1> "
   ]
  },
  {
   "cell_type": "markdown",
   "metadata": {},
   "source": [
    "Реализуйте беггинг."
   ]
  },
  {
   "cell_type": "code",
   "execution_count": 1,
   "metadata": {
    "collapsed": false
   },
   "outputs": [],
   "source": [
    "import warnings\n",
    "\n",
    "import numpy as np\n",
    "from copy import deepcopy\n",
    "from sklearn.base import ClassifierMixin, BaseEstimator\n",
    "\n",
    "warnings.simplefilter(\"ignore\")\n",
    "\n",
    "\n",
    "class BaggingClassifier(BaseEstimator, ClassifierMixin):\n",
    "    def __init__(self, base_estimator, n_estimators, items_rate=1.0, features_rate=1.0):\n",
    "        \"\"\"\n",
    "        Parameters\n",
    "        ----------\n",
    "        base_estimator: sklearn.Classifier\n",
    "            Базовый алгоритм, который можно обучить (есть метод fit).\n",
    "            Для обучение композиции нужно много таких, можэно получить с помощю copy.deepcopy\n",
    "\n",
    "        n_estimators: int\n",
    "            Число алгоритмов в композиции\n",
    "\n",
    "        items_rate: float > 0\n",
    "            Доля объектов из трейна, на которой будет обучаться каждый базовый алгоритм\n",
    "\n",
    "        features_rate: float > 0\n",
    "            Доля фичей, на которой будет обучаться и применяться каждый базовый алгоритм\n",
    "        \"\"\"\n",
    "        self.base_estimator = base_estimator\n",
    "        self.n_estimators = n_estimators\n",
    "        self.items_rate = items_rate\n",
    "        self.features_rate = features_rate\n",
    "\n",
    "    def fit(self, X, y):\n",
    "        \"\"\"\n",
    "        Метод должен обучить композицию алгоритмов, используя X, y как обучающую выборку.\n",
    "        Не забудте реализорвать функционал выбора случайных объектов и фичей.\n",
    "\n",
    "        Parameters\n",
    "        ----------\n",
    "        X: 2d np.array\n",
    "        y: 1d np.array\n",
    "        \"\"\"\n",
    "        \n",
    "        n_features =  int(X.shape[1] * self.features_rate)\n",
    "        n_samples = int(X.shape[0] * self.items_rate)\n",
    "        \n",
    "        # Тут храните фичи для каждого алгоритма\n",
    "        self.features_idx = []\n",
    "        \n",
    "        # Тут храните обеченные базовые алгоритмы\n",
    "        self.estimators = []\n",
    "        \n",
    "        for i in range(self.n_estimators):\n",
    "            cur_features = np.random.choice(np.arange(X_train.shape[1]), size=n_features, replace=False)\n",
    "            self.features_idx.append(cur_features)\n",
    "            estimator = deepcopy(self.base_estimator)\n",
    "            # =======================================\n",
    "            # Обучите базовые алгоритмы\n",
    "            # =======================================\n",
    "            samples_idx = np.random.random_integers(0, high=X.shape[0] - 1, size=n_samples)\n",
    "            estimator.fit(X[np.ix_(samples_idx, cur_features)], y[samples_idx])\n",
    "            self.estimators.append(estimator)\n",
    "            \n",
    "        return self\n",
    "\n",
    "    def predict(self, X):\n",
    "        \"\"\"\n",
    "\n",
    "        Parameters\n",
    "        ----------\n",
    "        X: 2d np.array матрица объекты признаки на которых нужно сказать ответ\n",
    "\n",
    "        Returns\n",
    "        -------\n",
    "        y_pred: 1d np.array, Вектор классов для каждого объекта\n",
    "        \"\"\"\n",
    "        \n",
    "        probs = [] # Храните тут ответы каждого базового алгоритма \n",
    "        \n",
    "        for i in range(self.n_estimators):\n",
    "            # =======================================\n",
    "            # Получите ответы (вероятности) от всех базовых алгоритмов\n",
    "            # ======================================\n",
    "            cur_pred = self.estimators[i].predict_proba(X[:, self.features_idx[i]])\n",
    "            probs.append(cur_pred)\n",
    "            \n",
    "        # =======================================\n",
    "        # Усредните вероятности полученные от базовых алгоритмов\n",
    "        # =======================================\n",
    "        y_pred = np.mean(probs, axis=0)\n",
    "        y_pred = np.argmax(y_pred, axis=1)\n",
    "        return y_pred"
   ]
  },
  {
   "cell_type": "markdown",
   "metadata": {},
   "source": [
    "### Titanic Test"
   ]
  },
  {
   "cell_type": "code",
   "execution_count": 2,
   "metadata": {
    "collapsed": false
   },
   "outputs": [],
   "source": [
    "import numpy as np\n",
    "import pandas as pd\n",
    "from sklearn.preprocessing import LabelEncoder\n",
    "\n",
    "titanic = pd.read_csv('./data/train.csv')[['Survived', 'Pclass', 'Sex', 'Age', 'Fare']]\n",
    "\n",
    "sex_encoder = LabelEncoder()\n",
    "titanic.Sex = sex_encoder.fit_transform(titanic.Sex)\n",
    "features = ['Pclass', 'Sex', 'Age', 'Fare']"
   ]
  },
  {
   "cell_type": "code",
   "execution_count": 3,
   "metadata": {
    "collapsed": true
   },
   "outputs": [],
   "source": [
    "X, y = titanic[features].values, titanic.Survived.values\n",
    "X = np.nan_to_num(X)\n",
    "X_train, y_train, X_test, y_test = X[:500], y[:500], X[500:], y[500:]"
   ]
  },
  {
   "cell_type": "markdown",
   "metadata": {},
   "source": [
    "Нужно обучить свой беггинг на датасете титаник, и посмотреть работает ли он. "
   ]
  },
  {
   "cell_type": "code",
   "execution_count": 4,
   "metadata": {
    "collapsed": true
   },
   "outputs": [],
   "source": [
    "from sklearn.metrics import accuracy_score\n",
    "from sklearn.tree import DecisionTreeClassifier"
   ]
  },
  {
   "cell_type": "code",
   "execution_count": 5,
   "metadata": {
    "collapsed": false
   },
   "outputs": [
    {
     "data": {
      "text/plain": [
       "BaggingClassifier(base_estimator=DecisionTreeClassifier(class_weight=None, criterion='gini', max_depth=None,\n",
       "            max_features=None, max_leaf_nodes=None, min_samples_leaf=1,\n",
       "            min_samples_split=2, min_weight_fraction_leaf=0.0,\n",
       "            presort=False, random_state=None, splitter='best'),\n",
       "         features_rate=0.75, items_rate=0.6, n_estimators=10)"
      ]
     },
     "execution_count": 5,
     "metadata": {},
     "output_type": "execute_result"
    }
   ],
   "source": [
    "# =======================================\n",
    "# Обучите беггинг над DecisionTreeClassifier с 10 моделями\n",
    "# =======================================\n",
    "clf = BaggingClassifier(DecisionTreeClassifier(), n_estimators=10, items_rate=0.6, features_rate=.75)\n",
    "clf.fit(X_train, y_train)"
   ]
  },
  {
   "cell_type": "code",
   "execution_count": 6,
   "metadata": {
    "collapsed": false
   },
   "outputs": [
    {
     "name": "stdout",
     "output_type": "stream",
     "text": [
      "0.93 0.790281329923\n"
     ]
    }
   ],
   "source": [
    "print accuracy_score(clf.predict(X_train), y_train), accuracy_score(clf.predict(X_test), y_test)"
   ]
  },
  {
   "cell_type": "markdown",
   "metadata": {},
   "source": [
    "Проведите эксперименты:\n",
    "    - Работает-ли беггинг лучше чем просто линейная модель?\n",
    "    - Какой items_rate и features_rate работает лучше и почему?"
   ]
  },
  {
   "cell_type": "code",
   "execution_count": 7,
   "metadata": {
    "collapsed": true
   },
   "outputs": [],
   "source": [
    "from sklearn.grid_search import GridSearchCV"
   ]
  },
  {
   "cell_type": "code",
   "execution_count": 8,
   "metadata": {
    "collapsed": false
   },
   "outputs": [
    {
     "name": "stdout",
     "output_type": "stream",
     "text": [
      "Fitting 3 folds for each of 36 candidates, totalling 108 fits\n",
      "best params: {'items_rate': 0.4, 'features_rate': 0.75},\n",
      "prediction accuracy: 0.815856777494\n"
     ]
    },
    {
     "name": "stderr",
     "output_type": "stream",
     "text": [
      "[Parallel(n_jobs=4)]: Done 108 out of 108 | elapsed:    0.8s finished\n"
     ]
    }
   ],
   "source": [
    "grid_searcher = GridSearchCV(clf, scoring='accuracy', iid=False, cv=3, verbose=1, n_jobs=4,\n",
    "                 param_grid={'items_rate':[0.1 * i for i in range(1,10)], 'features_rate':[0.25 * i for i in range(1,5)]})\n",
    "grid_searcher.fit(X_train, y_train)\n",
    "print 'best params: %s,\\nprediction accuracy: %s' % (\n",
    "    grid_searcher.best_params_, accuracy_score(grid_searcher.best_estimator_.predict(X_test), y_test))"
   ]
  },
  {
   "cell_type": "code",
   "execution_count": 9,
   "metadata": {
    "collapsed": false
   },
   "outputs": [
    {
     "data": {
      "text/plain": [
       "[mean: 0.69614, std: 0.05302, params: {'items_rate': 0.1, 'features_rate': 0.25},\n",
       " mean: 0.71008, std: 0.01853, params: {'items_rate': 0.2, 'features_rate': 0.25},\n",
       " mean: 0.69624, std: 0.05587, params: {'items_rate': 0.30000000000000004, 'features_rate': 0.25},\n",
       " mean: 0.69019, std: 0.03764, params: {'items_rate': 0.4, 'features_rate': 0.25},\n",
       " mean: 0.65402, std: 0.01050, params: {'items_rate': 0.5, 'features_rate': 0.25},\n",
       " mean: 0.71605, std: 0.04052, params: {'items_rate': 0.6000000000000001, 'features_rate': 0.25},\n",
       " mean: 0.65402, std: 0.02487, params: {'items_rate': 0.7000000000000001, 'features_rate': 0.25},\n",
       " mean: 0.72433, std: 0.06473, params: {'items_rate': 0.8, 'features_rate': 0.25},\n",
       " mean: 0.70609, std: 0.01815, params: {'items_rate': 0.9, 'features_rate': 0.25},\n",
       " mean: 0.75423, std: 0.04087, params: {'items_rate': 0.1, 'features_rate': 0.5},\n",
       " mean: 0.66236, std: 0.07181, params: {'items_rate': 0.2, 'features_rate': 0.5},\n",
       " mean: 0.74443, std: 0.07796, params: {'items_rate': 0.30000000000000004, 'features_rate': 0.5},\n",
       " mean: 0.74620, std: 0.04032, params: {'items_rate': 0.4, 'features_rate': 0.5},\n",
       " mean: 0.77598, std: 0.00363, params: {'items_rate': 0.5, 'features_rate': 0.5},\n",
       " mean: 0.73033, std: 0.06714, params: {'items_rate': 0.6000000000000001, 'features_rate': 0.5},\n",
       " mean: 0.73200, std: 0.05165, params: {'items_rate': 0.7000000000000001, 'features_rate': 0.5},\n",
       " mean: 0.76224, std: 0.04240, params: {'items_rate': 0.8, 'features_rate': 0.5},\n",
       " mean: 0.76788, std: 0.02569, params: {'items_rate': 0.9, 'features_rate': 0.5},\n",
       " mean: 0.77608, std: 0.01444, params: {'items_rate': 0.1, 'features_rate': 0.75},\n",
       " mean: 0.77015, std: 0.02732, params: {'items_rate': 0.2, 'features_rate': 0.75},\n",
       " mean: 0.77620, std: 0.03570, params: {'items_rate': 0.30000000000000004, 'features_rate': 0.75},\n",
       " mean: 0.81213, std: 0.02302, params: {'items_rate': 0.4, 'features_rate': 0.75},\n",
       " mean: 0.80006, std: 0.01127, params: {'items_rate': 0.5, 'features_rate': 0.75},\n",
       " mean: 0.76814, std: 0.02650, params: {'items_rate': 0.6000000000000001, 'features_rate': 0.75},\n",
       " mean: 0.79817, std: 0.02985, params: {'items_rate': 0.7000000000000001, 'features_rate': 0.75},\n",
       " mean: 0.79814, std: 0.02667, params: {'items_rate': 0.8, 'features_rate': 0.75},\n",
       " mean: 0.77613, std: 0.02282, params: {'items_rate': 0.9, 'features_rate': 0.75},\n",
       " mean: 0.77206, std: 0.01357, params: {'items_rate': 0.1, 'features_rate': 1.0},\n",
       " mean: 0.80209, std: 0.01654, params: {'items_rate': 0.2, 'features_rate': 1.0},\n",
       " mean: 0.79599, std: 0.00990, params: {'items_rate': 0.30000000000000004, 'features_rate': 1.0},\n",
       " mean: 0.79014, std: 0.02832, params: {'items_rate': 0.4, 'features_rate': 1.0},\n",
       " mean: 0.80403, std: 0.01083, params: {'items_rate': 0.5, 'features_rate': 1.0},\n",
       " mean: 0.79207, std: 0.01382, params: {'items_rate': 0.6000000000000001, 'features_rate': 1.0},\n",
       " mean: 0.80211, std: 0.02016, params: {'items_rate': 0.7000000000000001, 'features_rate': 1.0},\n",
       " mean: 0.79410, std: 0.02101, params: {'items_rate': 0.8, 'features_rate': 1.0},\n",
       " mean: 0.80011, std: 0.01859, params: {'items_rate': 0.9, 'features_rate': 1.0}]"
      ]
     },
     "execution_count": 9,
     "metadata": {},
     "output_type": "execute_result"
    }
   ],
   "source": [
    "grid_searcher.grid_scores_"
   ]
  },
  {
   "cell_type": "markdown",
   "metadata": {},
   "source": [
    "На самом деле, тут еще несколько влияет то, что каждый раз разный random_state. Поэтому за лучшие параметры я буду считать те, где минимальное std при более-менее высокой средней точности.\n",
    "\n",
    "Т.е. как раз $params: {'items\\_rate': 0.4, 'features\\_rate': 0.75}$\n",
    "\n",
    "Такой features_rate наилучший, т.к. фич достаточно мало и наиболее информативным будет брать их почти все для каждого дерева."
   ]
  },
  {
   "cell_type": "code",
   "execution_count": 10,
   "metadata": {
    "collapsed": false
   },
   "outputs": [
    {
     "data": {
      "text/plain": [
       "<matplotlib.axes._subplots.AxesSubplot at 0x7fd731a8c190>"
      ]
     },
     "execution_count": 10,
     "metadata": {},
     "output_type": "execute_result"
    },
    {
     "data": {
      "image/png": "[encoded data removed]",
      "text/plain": [
       "<matplotlib.figure.Figure at 0x7fd731d39b50>"
      ]
     },
     "metadata": {},
     "output_type": "display_data"
    }
   ],
   "source": [
    "corr_matrix = np.zeros((4,4))\n",
    "for i in range(4):\n",
    "    for j in range(4):\n",
    "        corr_matrix[i][j] = np.corrcoef(X_train[:,i], X_train[:,j])[0,1]\n",
    "from seaborn import heatmap\n",
    "%matplotlib inline\n",
    "heatmap(corr_matrix)"
   ]
  },
  {
   "cell_type": "markdown",
   "metadata": {},
   "source": [
    "Как видно, большая часть фичей мало кореллируют. Это еще одно объяснение того, почему наилучший features_rate равен 0.75."
   ]
  },
  {
   "cell_type": "code",
   "execution_count": 11,
   "metadata": {
    "collapsed": false
   },
   "outputs": [
    {
     "name": "stdout",
     "output_type": "stream",
     "text": [
      "(0.93400000000000005, 0.82352941176470584)\n"
     ]
    }
   ],
   "source": [
    "# =======================================\n",
    "# Обучите беггинг над DecisionTreeClassifier с 100 моделями\n",
    "# =======================================\n",
    "clf = BaggingClassifier(DecisionTreeClassifier(), n_estimators=100, items_rate=0.6, features_rate=.75)\n",
    "clf.fit(X_train, y_train)\n",
    "acc = accuracy_score(clf.predict(X_train), y_train), accuracy_score(clf.predict(X_test), y_test)\n",
    "print acc"
   ]
  },
  {
   "cell_type": "code",
   "execution_count": 12,
   "metadata": {
    "collapsed": false
   },
   "outputs": [
    {
     "name": "stdout",
     "output_type": "stream",
     "text": [
      "0.8 0.769820971867\n"
     ]
    }
   ],
   "source": [
    "# =======================================\n",
    "# Обучите LogsiticRegression \n",
    "# =======================================\n",
    "from sklearn.linear_model import LogisticRegression\n",
    "clf = LogisticRegression()\n",
    "clf.fit(X_train, y_train)\n",
    "print accuracy_score(clf.predict(X_train), y_train), accuracy_score(clf.predict(X_test), y_test)"
   ]
  },
  {
   "cell_type": "markdown",
   "metadata": {},
   "source": [
    "Линейная модель работает хуже, т.к. у нее явно большее смещение. К тому же, мы имеем сравнительно мало данных для обучения. Она является очень негибкой, т.к. всего 5 фичей"
   ]
  },
  {
   "cell_type": "markdown",
   "metadata": {},
   "source": [
    "### Adult Test"
   ]
  },
  {
   "cell_type": "code",
   "execution_count": 13,
   "metadata": {
    "collapsed": true
   },
   "outputs": [],
   "source": [
    "adult = pd.read_csv(\n",
    "    './data/adult.data', \n",
    "    names=[\n",
    "        \"Age\", \"Workclass\", \"fnlwgt\", \"Education\", \"Education-Num\", \"Martial Status\",\n",
    "        \"Occupation\", \"Relationship\", \"Race\", \"Sex\", \"Capital Gain\", \"Capital Loss\",\n",
    "        \"Hours per week\", \"Country\", \"Target\"], \n",
    "    header=None, na_values=\"?\")\n",
    "\n",
    "adult = pd.get_dummies(adult)\n",
    "adult[\"Target\"] = adult[\"Target_ >50K\"]\n",
    "X, y = adult[adult.columns[:-3]].values, adult[adult.columns[-1]].values\n",
    "X_train, y_train, X_test, y_test = X[:20000], y[:20000], X[20000:], y[20000:]"
   ]
  },
  {
   "cell_type": "markdown",
   "metadata": {},
   "source": [
    "Ответте на вопросы:\n",
    "    - Работает-ли беггинг лучше чем просто линейная модель?\n",
    "    - Какой items_rate и features_rate работает лучше и почему?"
   ]
  },
  {
   "cell_type": "code",
   "execution_count": 14,
   "metadata": {
    "collapsed": false
   },
   "outputs": [
    {
     "name": "stdout",
     "output_type": "stream",
     "text": [
      "Fitting 3 folds for each of 90 candidates, totalling 270 fits\n"
     ]
    },
    {
     "name": "stderr",
     "output_type": "stream",
     "text": [
      "[Parallel(n_jobs=4)]: Done  42 tasks      | elapsed:    3.7s\n",
      "[Parallel(n_jobs=4)]: Done 192 tasks      | elapsed:   39.3s\n",
      "[Parallel(n_jobs=4)]: Done 270 out of 270 | elapsed:  1.2min finished\n"
     ]
    },
    {
     "name": "stdout",
     "output_type": "stream",
     "text": [
      "best params: {'items_rate': 0.6000000000000001, 'features_rate': 0.9},\n",
      "prediction accuracy: 0.851524560146\n"
     ]
    }
   ],
   "source": [
    "clf = BaggingClassifier(DecisionTreeClassifier(), n_estimators=10, items_rate=0.6, features_rate=1.)\n",
    "grid_searcher = GridSearchCV(clf, scoring='accuracy', iid=False, cv=3, verbose=1, n_jobs=4,\n",
    "                 param_grid={'items_rate':[0.1 * i for i in range(1,10)], 'features_rate':[0.1 * i for i in range(1,11)]})\n",
    "grid_searcher.fit(X_train, y_train)\n",
    "print ('best params: %s,\\nprediction accuracy: %s' % (\n",
    "    grid_searcher.best_params_, accuracy_score(grid_searcher.best_estimator_.predict(X_test), y_test)))"
   ]
  },
  {
   "cell_type": "markdown",
   "metadata": {},
   "source": [
    "Опять же посмотрев на grid\\_searcher.grid\\_score_ за лучшие параметры возьму \n",
    "$params: {'items\\_rate': 0.6, 'features\\_rate': 0.9}$"
   ]
  },
  {
   "cell_type": "code",
   "execution_count": 15,
   "metadata": {
    "collapsed": false
   },
   "outputs": [
    {
     "data": {
      "text/plain": [
       "<matplotlib.axes._subplots.AxesSubplot at 0x7ff44e229dd0>"
      ]
     },
     "execution_count": 15,
     "metadata": {},
     "output_type": "execute_result"
    },
    {
     "data": {
      "image/png": "[encoded data removed]",
      "text/plain": [
       "<matplotlib.figure.Figure at 0x7ff44c71aa90>"
      ]
     },
     "metadata": {},
     "output_type": "display_data"
    }
   ],
   "source": [
    "corr_matrix = np.zeros((X_train.shape[1],X_train.shape[1]))\n",
    "for i in range(X_train.shape[1]):\n",
    "    for j in range(X_train.shape[1]):\n",
    "        corr_matrix[i][j] = np.corrcoef(X_train[:,i], X_train[:,j])[0,1]\n",
    "heatmap(corr_matrix)"
   ]
  },
  {
   "cell_type": "markdown",
   "metadata": {},
   "source": [
    "Опять же в большинстве своем фичи не кореллируют"
   ]
  },
  {
   "cell_type": "code",
   "execution_count": 17,
   "metadata": {
    "collapsed": false
   },
   "outputs": [
    {
     "data": {
      "text/plain": [
       "BaggingClassifier(base_estimator=DecisionTreeClassifier(class_weight=None, criterion='gini', max_depth=None,\n",
       "            max_features=None, max_leaf_nodes=None, min_samples_leaf=1,\n",
       "            min_samples_split=2, min_weight_fraction_leaf=0.0,\n",
       "            presort=False, random_state=None, splitter='best'),\n",
       "         features_rate=0.7, items_rate=0.4, n_estimators=10)"
      ]
     },
     "execution_count": 17,
     "metadata": {},
     "output_type": "execute_result"
    }
   ],
   "source": [
    "clf = BaggingClassifier(DecisionTreeClassifier(), n_estimators=10, items_rate=0.4, features_rate=.7)\n",
    "clf.fit(X_train, y_train)"
   ]
  },
  {
   "cell_type": "code",
   "execution_count": 18,
   "metadata": {
    "collapsed": false
   },
   "outputs": [
    {
     "data": {
      "text/plain": [
       "0.85160417164238511"
      ]
     },
     "execution_count": 18,
     "metadata": {},
     "output_type": "execute_result"
    }
   ],
   "source": [
    "accuracy_score(clf.predict(X_test), y_test)"
   ]
  },
  {
   "cell_type": "code",
   "execution_count": 19,
   "metadata": {
    "collapsed": false
   },
   "outputs": [
    {
     "name": "stdout",
     "output_type": "stream",
     "text": [
      "0.79975 0.794920786562\n"
     ]
    }
   ],
   "source": [
    "from sklearn.linear_model import LogisticRegression\n",
    "clf = LogisticRegression()\n",
    "clf.fit(X_train, y_train)\n",
    "print accuracy_score(clf.predict(X_train), y_train), accuracy_score(clf.predict(X_test), y_test)"
   ]
  },
  {
   "cell_type": "markdown",
   "metadata": {},
   "source": [
    "Опять же линейная модель работает хуже."
   ]
  },
  {
   "cell_type": "markdown",
   "metadata": {},
   "source": [
    "<h1 align=\"center\">Text, Image Classification</h1> "
   ]
  },
  {
   "cell_type": "markdown",
   "metadata": {},
   "source": [
    "Дальше в каждом эксперименте нужно: \n",
    "- сравниться с линейной моделью ( какую лучше выбрать?=) )\n",
    "- сделать выбор в пользу одной из моделей\n",
    "- выбор обосновать, почему одна из моделей хуже а другая лучше\n",
    "- что такое хуже и лучше\n",
    "- попробуйте беггинг над деревьями и линейными моделями \n",
    "- почему работает или не работает, какие особенности данных на это влияют"
   ]
  },
  {
   "cell_type": "markdown",
   "metadata": {
    "collapsed": true
   },
   "source": [
    "### Text classification"
   ]
  },
  {
   "cell_type": "code",
   "execution_count": 20,
   "metadata": {
    "collapsed": false
   },
   "outputs": [],
   "source": [
    "from sklearn.datasets import fetch_20newsgroups\n",
    "from sklearn.feature_extraction.text import TfidfVectorizer\n",
    "newsgroups_train = fetch_20newsgroups(subset='train')\n",
    "newsgroups_test = fetch_20newsgroups(subset='test')\n",
    "\n",
    "vectorizer = TfidfVectorizer()\n",
    "X_train, y_train = vectorizer.fit_transform(newsgroups_train.data), newsgroups_train.target\n",
    "X_test,  y_test  = vectorizer.transform(newsgroups_test.data), newsgroups_test.target"
   ]
  },
  {
   "cell_type": "code",
   "execution_count": 24,
   "metadata": {
    "collapsed": false
   },
   "outputs": [
    {
     "name": "stdout",
     "output_type": "stream",
     "text": [
      "(0.96986035000883863, 0.82793414763674988)\n",
      "CPU times: user 33.3 s, sys: 1.62 s, total: 34.9 s\n",
      "Wall time: 8.76 s\n"
     ]
    }
   ],
   "source": [
    "%%time\n",
    "# =======================================\n",
    "# Обучите Линейную модель \n",
    "# =======================================\n",
    "from sklearn.linear_model import LogisticRegression # линейная модель для классификации\n",
    "\n",
    "clf = LogisticRegression()\n",
    "clf.fit(X_train, y_train)\n",
    "print (accuracy_score(clf.predict(X_train), y_train), accuracy_score(clf.predict(X_test), y_test))"
   ]
  },
  {
   "cell_type": "code",
   "execution_count": 25,
   "metadata": {
    "collapsed": false
   },
   "outputs": [
    {
     "name": "stdout",
     "output_type": "stream",
     "text": [
      "(0.93841094098235373, 0.64468233078281511)\n",
      "CPU times: user 6min 50s, sys: 14.7 s, total: 7min 5s\n",
      "Wall time: 7min 5s\n"
     ]
    }
   ],
   "source": [
    "%%time\n",
    "# =======================================\n",
    "# Обучите беггинг над DecisionTreeClassifier\n",
    "# =======================================\n",
    "\n",
    "clf = BaggingClassifier(DecisionTreeClassifier(max_depth=5), n_estimators=10, items_rate=0.4, features_rate=.7)\n",
    "clf.fit(X_train, y_train)\n",
    "print (accuracy_score(clf.predict(X_train[:100]), y_train[:100]), accuracy_score(clf.predict(X_test), y_test))"
   ]
  },
  {
   "cell_type": "code",
   "execution_count": 27,
   "metadata": {
    "collapsed": false
   },
   "outputs": [
    {
     "name": "stdout",
     "output_type": "stream",
     "text": [
      "(0.92370514406929465, 0.80329261816250668)\n",
      "CPU times: user 7min 48s, sys: 17.5 s, total: 8min 6s\n",
      "Wall time: 7min 16s\n"
     ]
    }
   ],
   "source": [
    "%%time\n",
    "\n",
    "clf = BaggingClassifier(LogisticRegression(), n_estimators=10, items_rate=0.4, features_rate=.7)\n",
    "clf.fit(X_train, y_train)\n",
    "print (accuracy_score(clf.predict(X_train), y_train), accuracy_score(clf.predict(X_test), y_test))"
   ]
  },
  {
   "cell_type": "markdown",
   "metadata": {},
   "source": [
    "Как видим в данном случае все наоборот: регрессия работает лучше. Это происходит потому, что разброс у нее меньше, а в силу того, что имеется огромное количество фич, модель для регрессии становится достаточно гибкой, что дает ей сделать смещение очень маленьким"
   ]
  },
  {
   "cell_type": "markdown",
   "metadata": {},
   "source": [
    "Теперь о том, почему не работает бэггинг для линейных моделей. Во-первых, мы берем не все фичи - что значительно ухудшает их качество -, во-вторых, т.к. мы работаем с текстовыми данными, мы можем часто не брать в подвыборку данные по словам, которые встречаются редко"
   ]
  },
  {
   "cell_type": "markdown",
   "metadata": {
    "collapsed": true
   },
   "source": [
    "### Image classification"
   ]
  },
  {
   "cell_type": "code",
   "execution_count": 28,
   "metadata": {
    "collapsed": false
   },
   "outputs": [],
   "source": [
    "from utils import load_cifar10\n",
    "X_train, y_train, X_val, y_val, X_test, y_test = load_cifar10('./data/cifar10')[0]"
   ]
  },
  {
   "cell_type": "code",
   "execution_count": 29,
   "metadata": {
    "collapsed": false
   },
   "outputs": [],
   "source": [
    "X_train, X_test = X_train.reshape(X_train.shape[0], -1), X_test.reshape(X_test.shape[0], -1)"
   ]
  },
  {
   "cell_type": "code",
   "execution_count": 30,
   "metadata": {
    "collapsed": false
   },
   "outputs": [
    {
     "data": {
      "text/plain": [
       "(50000, 3072)"
      ]
     },
     "execution_count": 30,
     "metadata": {},
     "output_type": "execute_result"
    }
   ],
   "source": [
    "X_train.shape"
   ]
  },
  {
   "cell_type": "code",
   "execution_count": 38,
   "metadata": {
    "collapsed": false
   },
   "outputs": [
    {
     "name": "stdout",
     "output_type": "stream",
     "text": [
      "[LibLinear]CPU times: user 4min 37s, sys: 9.05 ms, total: 4min 37s\n",
      "Wall time: 4min 37s\n"
     ]
    }
   ],
   "source": [
    "%%time\n",
    "# =======================================\n",
    "# Обучите Линейную модель \n",
    "# ======================================\n",
    "clf = LogisticRegression(verbose=1, n_jobs=6)\n",
    "clf.fit(X_train[:2000], y_train[:2000])"
   ]
  },
  {
   "cell_type": "code",
   "execution_count": 39,
   "metadata": {
    "collapsed": false
   },
   "outputs": [
    {
     "data": {
      "text/plain": [
       "0.18690000000000001"
      ]
     },
     "execution_count": 39,
     "metadata": {},
     "output_type": "execute_result"
    }
   ],
   "source": [
    "accuracy_score(clf.predict(X_test), y_test)"
   ]
  },
  {
   "cell_type": "markdown",
   "metadata": {},
   "source": [
    "Хочу заметить, что алгоритм на полном датасете будет обучаться достаточно долго - это, если учесть, что я считаю на AWS."
   ]
  },
  {
   "cell_type": "code",
   "execution_count": 40,
   "metadata": {
    "collapsed": false
   },
   "outputs": [
    {
     "name": "stdout",
     "output_type": "stream",
     "text": [
      "CPU times: user 6min 39s, sys: 1.32 s, total: 6min 41s\n",
      "Wall time: 6min 41s\n"
     ]
    }
   ],
   "source": [
    "%%time\n",
    "# =======================================\n",
    "# Обучите беггинг над DecisionTreeClassifier\n",
    "# =======================================\n",
    "clf = BaggingClassifier(DecisionTreeClassifier(), n_estimators=10, items_rate=0.2, features_rate=.7)\n",
    "clf.fit(X_train, y_train)"
   ]
  },
  {
   "cell_type": "code",
   "execution_count": 42,
   "metadata": {
    "collapsed": false
   },
   "outputs": [
    {
     "name": "stdout",
     "output_type": "stream",
     "text": [
      "(0.91230000000000001, 0.28559999999999999)\n"
     ]
    }
   ],
   "source": [
    "print (accuracy_score(clf.predict(X_train), y_train), accuracy_score(clf.predict(X_test), y_test))"
   ]
  },
  {
   "cell_type": "markdown",
   "metadata": {},
   "source": [
    "Что линейная модель, что решающие деревья плохо учитывают зависимость между соседними пикселями. Соответственно они плохи в классификации изображений. К тому же, хочется сказать, что для обучения при распознавании изображений лучше использовать все фичи, а не часть (как мы делаем в бэггинге)"
   ]
  },
  {
   "cell_type": "markdown",
   "metadata": {},
   "source": [
    "<h1 align=\"center\">Random Forest Feature Impotance</h1> "
   ]
  },
  {
   "cell_type": "markdown",
   "metadata": {
    "collapsed": true
   },
   "source": [
    "Опишите как вычисляется важность фичей в дереве, можите изучить как работает  feature\\_importances_ в sklearn.\n",
    "\n",
    "---\n",
    "\n",
    "Есть несколько вариантов. Один из них следующий: возьмем произвольную фичу, посмотрим на то, в каких вершинах у каких деревьев происходит разделение по этой фиче, и усредним изменение энтропии с весами равными вероятностям дойти до этих вершин.\n",
    "Смысл примерно следующий: чем лучше конкретная фича разделяет датасет, чем ближе она находится к корню дерева, тем больше ее важность."
   ]
  },
  {
   "cell_type": "markdown",
   "metadata": {
    "collapsed": true
   },
   "source": [
    "Почитайте Feature Impotance для Adult и Titanic (используйте полный датасет), ПРОИНТЕРПРЕТИРУЙТЕ резульататы."
   ]
  },
  {
   "cell_type": "code",
   "execution_count": 61,
   "metadata": {
    "collapsed": true
   },
   "outputs": [],
   "source": [
    "titanic = pd.read_csv('./data/train.csv')[['Survived', 'Pclass', 'Sex', 'Age', 'Fare', 'Parch', 'Embarked']]\n",
    "\n",
    "sex_encoder = LabelEncoder()\n",
    "titanic.Sex = sex_encoder.fit_transform(titanic.Sex)\n",
    "parch_encoder = LabelEncoder()\n",
    "titanic.Parch = parch_encoder.fit_transform(titanic.Parch)\n",
    "embarked_encoder = LabelEncoder()\n",
    "titanic.Embarked = embarked_encoder.fit_transform(titanic.Embarked)\n",
    "features = ['Pclass', 'Sex', 'Age', 'Fare', 'Parch', 'Embarked']"
   ]
  },
  {
   "cell_type": "code",
   "execution_count": 62,
   "metadata": {
    "collapsed": true
   },
   "outputs": [],
   "source": [
    "X, y = titanic[features].values, titanic.Survived.values\n",
    "X = np.nan_to_num(X)"
   ]
  },
  {
   "cell_type": "code",
   "execution_count": 64,
   "metadata": {
    "collapsed": false
   },
   "outputs": [],
   "source": [
    "X_train = X\n",
    "y_train = y"
   ]
  },
  {
   "cell_type": "code",
   "execution_count": 65,
   "metadata": {
    "collapsed": true
   },
   "outputs": [],
   "source": [
    "from sklearn.ensemble import RandomForestClassifier"
   ]
  },
  {
   "cell_type": "code",
   "execution_count": 66,
   "metadata": {
    "collapsed": false
   },
   "outputs": [
    {
     "name": "stderr",
     "output_type": "stream",
     "text": [
      "[Parallel(n_jobs=6)]: Done  38 tasks      | elapsed:    0.0s\n",
      "[Parallel(n_jobs=6)]: Done 100 out of 100 | elapsed:    0.1s finished\n"
     ]
    },
    {
     "data": {
      "text/plain": [
       "RandomForestClassifier(bootstrap=True, class_weight=None, criterion='gini',\n",
       "            max_depth=None, max_features='auto', max_leaf_nodes=None,\n",
       "            min_samples_leaf=1, min_samples_split=2,\n",
       "            min_weight_fraction_leaf=0.0, n_estimators=100, n_jobs=6,\n",
       "            oob_score=False, random_state=None, verbose=1,\n",
       "            warm_start=False)"
      ]
     },
     "execution_count": 66,
     "metadata": {},
     "output_type": "execute_result"
    }
   ],
   "source": [
    "clf = RandomForestClassifier(n_jobs=6, n_estimators=100, verbose=1)\n",
    "clf.fit(X, y)"
   ]
  },
  {
   "cell_type": "code",
   "execution_count": 68,
   "metadata": {
    "collapsed": false
   },
   "outputs": [
    {
     "data": {
      "text/plain": [
       "[(0.095733055966993899, 'Pclass'),\n",
       " (0.26340715907293322, 'Sex'),\n",
       " (0.25427769115539112, 'Age'),\n",
       " (0.30544836332410769, 'Fare'),\n",
       " (0.046631101788886117, 'Parch'),\n",
       " (0.034502628691688013, 'Embarked')]"
      ]
     },
     "execution_count": 68,
     "metadata": {},
     "output_type": "execute_result"
    }
   ],
   "source": [
    "[(clf.feature_importances_[i], features[i]) for i in range(6)]"
   ]
  },
  {
   "cell_type": "markdown",
   "metadata": {},
   "source": [
    "Можно заметить, что больше всего влияют три признака: пол, возраст и плата за билет"
   ]
  },
  {
   "cell_type": "markdown",
   "metadata": {},
   "source": [
    "### Adult"
   ]
  },
  {
   "cell_type": "code",
   "execution_count": 69,
   "metadata": {
    "collapsed": true
   },
   "outputs": [],
   "source": [
    "X, y = adult[adult.columns[:-3]].values, adult[adult.columns[-1]].values\n",
    "X_train, y_train, X_test, y_test = X[:20000], y[:20000], X[20000:], y[20000:]"
   ]
  },
  {
   "cell_type": "code",
   "execution_count": 70,
   "metadata": {
    "collapsed": false
   },
   "outputs": [],
   "source": [
    "clf = BaggingClassifier(base_estimator=DecisionTreeClassifier(), n_estimators=100, \n",
    "                        items_rate=1, features_rate=1).fit(X_train, y_train)"
   ]
  },
  {
   "cell_type": "code",
   "execution_count": 73,
   "metadata": {
    "collapsed": false
   },
   "outputs": [],
   "source": [
    "# =======================================\n",
    "# Посчитайте feature_importances для clf\n",
    "# =======================================\n",
    "\n",
    "result = np.zeros(X_train.shape[1])\n",
    "for i in range(100):\n",
    "    tree = clf.estimators[i]\n",
    "    features = clf.features_idx[i]\n",
    "    importances = tree.feature_importances_\n",
    "    result[features] += importances"
   ]
  },
  {
   "cell_type": "code",
   "execution_count": 75,
   "metadata": {
    "collapsed": false
   },
   "outputs": [],
   "source": [
    "result /= 100"
   ]
  },
  {
   "cell_type": "code",
   "execution_count": 76,
   "metadata": {
    "collapsed": false
   },
   "outputs": [
    {
     "data": {
      "text/plain": [
       "array([ 0.11382,  0.16594, ...,  0.00024,  0.00062])"
      ]
     },
     "execution_count": 76,
     "metadata": {},
     "output_type": "execute_result"
    }
   ],
   "source": [
    "result"
   ]
  },
  {
   "cell_type": "markdown",
   "metadata": {},
   "source": [
    "### Titanic"
   ]
  },
  {
   "cell_type": "code",
   "execution_count": 77,
   "metadata": {
    "collapsed": true
   },
   "outputs": [],
   "source": [
    "titanic = pd.read_csv('./data/train.csv')[['Survived', 'Pclass', 'Sex', 'Age', 'Fare', 'Parch', 'Embarked']]\n",
    "\n",
    "sex_encoder = LabelEncoder()\n",
    "titanic.Sex = sex_encoder.fit_transform(titanic.Sex)\n",
    "parch_encoder = LabelEncoder()\n",
    "titanic.Parch = parch_encoder.fit_transform(titanic.Parch)\n",
    "embarked_encoder = LabelEncoder()\n",
    "titanic.Embarked = embarked_encoder.fit_transform(titanic.Embarked)\n",
    "features = ['Pclass', 'Sex', 'Age', 'Fare', 'Parch', 'Embarked']"
   ]
  },
  {
   "cell_type": "code",
   "execution_count": 78,
   "metadata": {
    "collapsed": true
   },
   "outputs": [],
   "source": [
    "X, y = titanic[features].values, titanic.Survived.values\n",
    "X = np.nan_to_num(X)\n",
    "X_train, y_train, X_test, y_test = X[:500], y[:500], X[500:], y[500:]\n",
    "# не совсем понятно, что имелось ввиду под \"используйте полный датасет\", если тут мы за трейн берем всего 500 сэмплов"
   ]
  },
  {
   "cell_type": "code",
   "execution_count": 79,
   "metadata": {
    "collapsed": true
   },
   "outputs": [],
   "source": [
    "clf = BaggingClassifier(base_estimator=DecisionTreeClassifier(), n_estimators=100, \n",
    "                        items_rate=1, features_rate=1).fit(X_train, y_train)"
   ]
  },
  {
   "cell_type": "code",
   "execution_count": 80,
   "metadata": {
    "collapsed": false
   },
   "outputs": [],
   "source": [
    "# =======================================\n",
    "# Посчитайте feature_importances для clf\n",
    "# =======================================\n",
    "\n",
    "result = np.zeros(X_train.shape[1])\n",
    "for i in range(100):\n",
    "    tree = clf.estimators[i]\n",
    "    features_idx = clf.features_idx[i]\n",
    "    importances = tree.feature_importances_\n",
    "    result[features_idx] += importances\n",
    "result /= 100"
   ]
  },
  {
   "cell_type": "code",
   "execution_count": 81,
   "metadata": {
    "collapsed": false
   },
   "outputs": [
    {
     "data": {
      "text/plain": [
       "[(0.080747638678022551, 'Pclass'),\n",
       " (0.33654205935046322, 'Sex'),\n",
       " (0.23059698722108929, 'Age'),\n",
       " (0.28299719723062045, 'Fare'),\n",
       " (0.028509520180857312, 'Parch'),\n",
       " (0.040606597338947073, 'Embarked')]"
      ]
     },
     "execution_count": 81,
     "metadata": {},
     "output_type": "execute_result"
    }
   ],
   "source": [
    "[(result[i], features[i]) for i in range(6)]"
   ]
  },
  {
   "cell_type": "markdown",
   "metadata": {},
   "source": [
    "Как видим, в целом картина та же, что и в нормальном методе sklearn-а. Нужно еще учесть, что есть некая рандомизация в построении деревьев, и я усреднял важности фич с единичными весами"
   ]
  }
 ],
 "metadata": {
  "kernelspec": {
   "display_name": "Python 2",
   "language": "python",
   "name": "python2"
  },
  "language_info": {
   "codemirror_mode": {
    "name": "ipython",
    "version": 2
   },
   "file_extension": ".py",
   "mimetype": "text/x-python",
   "name": "python",
   "nbconvert_exporter": "python",
   "pygments_lexer": "ipython2",
   "version": "2.7.12"
  }
 },
 "nbformat": 4,
 "nbformat_minor": 0
}
