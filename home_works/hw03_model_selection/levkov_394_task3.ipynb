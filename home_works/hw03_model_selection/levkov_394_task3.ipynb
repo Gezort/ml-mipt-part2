{
 "cells": [
  {
   "cell_type": "markdown",
   "metadata": {},
   "source": [
    "<h1 align=\"center\">Оценка качества моделей и отбор признаков</h1>"
   ]
  },
  {
   "cell_type": "markdown",
   "metadata": {},
   "source": [
    "МФТИ ФИВТ: Курс Машинное Обучение (осень, 2016), Зухба Анастасия, a__l@mail.ru"
   ]
  },
  {
   "cell_type": "markdown",
   "metadata": {},
   "source": [
    "<h1 align=\"center\">Organization Info</h1> "
   ]
  },
  {
   "cell_type": "markdown",
   "metadata": {},
   "source": [
    "**Дополнительный материал для выполнения дз**:\n",
    "\n",
    "\n",
    "\n",
    "**Оформление дз**: \n",
    "- Присылайте выполненное задание на почту ``ml.course.mipt@gmail.com``\n",
    "- Укажите тему письма в следующем формате ``ML2016_fall <номер_группы> <фамилия>``, к примеру -- ``ML2016_fall 401 ivanov``\n",
    "- Выполненное дз сохраните в файл ``<фамилия>_<группа>_task<номер>.ipnb``, к примеру -- ``ivanov_401_task1.ipnb``\n",
    "\n",
    "**Вопросы**:\n",
    "- Присылайте вопросы на почту ``ml.course.mipt@gmail.com``\n",
    "- Укажите тему письма в следующем формате ``ML2016_fall Question <Содержание вопроса>``\n",
    "\n",
    "--------\n",
    "- **PS1**: Мы используем автоматические фильтры, и просто не найдем ваше дз, если вы не аккуратно его подпишите.\n",
    "- **PS2**: Напоминаем, что дедлайны жесткие, письма пришедшие после автоматически удаляются =( чтобы соблазна не было "
   ]
  },
  {
   "cell_type": "markdown",
   "metadata": {},
   "source": [
    "<h1 align=\"center\">Check Questions</h1> "
   ]
  },
  {
   "cell_type": "markdown",
   "metadata": {},
   "source": [
    "Ответе на вопросы своими словами (загугленный материал надо пересказать), ответ обоснуйте (напишите и ОБЪЯСНИТЕ формулки если потребуется), если не выходит, то вернитесь к лекции дополнительным материалам:\n",
    "\n",
    "**Вопрос 1**: В каких ситуациях полезно использовать AUC-ROC?\n",
    "\n",
    "Эту метрику используют для бинарной классификации. Она хорошо подходит для задач, когда классы не сбалансированы. По факту эта метрика говорит нам, какое в среднем качество нашего классификатора, где \"в среднем\" берется по всем возможным вероятностным порогам разделения выборки.\n",
    "\n",
    "**Вопрос 2**: Когда использование precision/recall предпочтительнее, чем AUC-ROC?\n",
    "\n",
    "Например тогда, когда у нас неравноценные пенальти за мисклассификацию. Т.е. штрафы за то, что мы назвали 1 нулем, не равен штрафу за то, что мы назвали 0 единицей. Также, тогда, когда доля одного из классов очень мала и мы хотим его искать (т.е. нам важно очень хорошо угадывать этот класс). Суть в том, что AUC-ROC не зависит от $P(Y = 1)$ и является, как уже выше было замечено, некой агрегацией/усреднением по различным $P(Y = 1)$.  Таким образом данная метрика не учитывает соотношение классов, что может быть важно в некоторых задачах.\n",
    "\n",
    "**Вопрос 3**: Для чего используются внутренние критерии, а для чего внешние?\n",
    "\n",
    "Внутренние - для оценки эмперического риска модели. Внешние - для обобщенного риска модели. Т.е. внутренние дают нам понять, насколько хорошо мы обучились, а внешние - насколько хорошо наша модель будет работать на новых данных\n",
    "\n",
    "**Вопрос 4**: Чем эмпирические критерии отличаются от аналитических?\n",
    "\n",
    "Эмпирические критерии выдают нам оценки качества на тех данных, которые мы имеем. Мы пытаемся оценить обобщающую способность алгоритма, используя отложенную часть начальных данных. Например CV\n",
    "\n",
    "В аналитических критериях же все не совсем так. Мы пытаемся оценить вероятность ошибки нашей модели на произвольной выборке и стремимся минимизировать верхнюю оценку для этой вероятности.\n",
    "\n",
    "**Вопрос 5**: Что такое критерий регуляризации?\n",
    "\n",
    "Критерий учитывает в себе следующие вещи: функция штрафа за сложность модели и ошибка на тренировочной выборке. Суть в том, что мы начинаем начислять модели какое-то пенальти (помимо ошибки на обучении) за то, что она настраивает больше параметров, и стараемся минимизировать новую функцию"
   ]
  },
  {
   "cell_type": "markdown",
   "metadata": {
    "collapsed": true
   },
   "source": [
    "# Определение спама по тексту электронного письма"
   ]
  },
  {
   "cell_type": "markdown",
   "metadata": {
    "collapsed": true
   },
   "source": [
    "Попробуем при помощи моделей машинного обучения построить алгоритм, отделяющий спам от нормальной почты. Для экспериментов воспользуемся небольшим набором данных с UCI. Объекты в датасете соответствуют письмам, которые описаны признаками на основе текста письма, спам — положительный пример для классификации, хорошее письмо — отрицательный пример."
   ]
  },
  {
   "cell_type": "code",
   "execution_count": 1,
   "metadata": {
    "collapsed": false
   },
   "outputs": [
    {
     "name": "stdout",
     "output_type": "stream",
     "text": [
      "Populating the interactive namespace from numpy and matplotlib\n"
     ]
    }
   ],
   "source": [
    "%pylab inline"
   ]
  },
  {
   "cell_type": "markdown",
   "metadata": {
    "collapsed": true
   },
   "source": [
    "Загрузка датасета Spambase"
   ]
  },
  {
   "cell_type": "code",
   "execution_count": 2,
   "metadata": {
    "collapsed": false
   },
   "outputs": [
    {
     "data": {
      "text/html": [
       "<div>\n",
       "<table border=\"1\" class=\"dataframe\">\n",
       "  <thead>\n",
       "    <tr style=\"text-align: right;\">\n",
       "      <th></th>\n",
       "      <th>b'word_freq_make</th>\n",
       "      <th>b'word_freq_address</th>\n",
       "      <th>b'word_freq_all</th>\n",
       "      <th>b'word_freq_3d</th>\n",
       "      <th>b'word_freq_our</th>\n",
       "      <th>b'word_freq_over</th>\n",
       "      <th>b'word_freq_remove</th>\n",
       "      <th>b'word_freq_internet</th>\n",
       "      <th>b'word_freq_order</th>\n",
       "      <th>b'word_freq_mail</th>\n",
       "      <th>...</th>\n",
       "      <th>b'char_freq_;</th>\n",
       "      <th>b'char_freq_(</th>\n",
       "      <th>b'char_freq_[</th>\n",
       "      <th>b'char_freq_!</th>\n",
       "      <th>b'char_freq_$</th>\n",
       "      <th>b'char_freq_#</th>\n",
       "      <th>b'capital_run_length_average</th>\n",
       "      <th>b'capital_run_length_longest</th>\n",
       "      <th>b'capital_run_length_total</th>\n",
       "      <th>spam</th>\n",
       "    </tr>\n",
       "  </thead>\n",
       "  <tbody>\n",
       "    <tr>\n",
       "      <th>0</th>\n",
       "      <td>0.00</td>\n",
       "      <td>0.64</td>\n",
       "      <td>0.64</td>\n",
       "      <td>0.0</td>\n",
       "      <td>0.32</td>\n",
       "      <td>0.00</td>\n",
       "      <td>0.00</td>\n",
       "      <td>0.00</td>\n",
       "      <td>0.00</td>\n",
       "      <td>0.00</td>\n",
       "      <td>...</td>\n",
       "      <td>0.00</td>\n",
       "      <td>0.000</td>\n",
       "      <td>0.0</td>\n",
       "      <td>0.778</td>\n",
       "      <td>0.000</td>\n",
       "      <td>0.000</td>\n",
       "      <td>3.756</td>\n",
       "      <td>61</td>\n",
       "      <td>278</td>\n",
       "      <td>1</td>\n",
       "    </tr>\n",
       "    <tr>\n",
       "      <th>1</th>\n",
       "      <td>0.21</td>\n",
       "      <td>0.28</td>\n",
       "      <td>0.50</td>\n",
       "      <td>0.0</td>\n",
       "      <td>0.14</td>\n",
       "      <td>0.28</td>\n",
       "      <td>0.21</td>\n",
       "      <td>0.07</td>\n",
       "      <td>0.00</td>\n",
       "      <td>0.94</td>\n",
       "      <td>...</td>\n",
       "      <td>0.00</td>\n",
       "      <td>0.132</td>\n",
       "      <td>0.0</td>\n",
       "      <td>0.372</td>\n",
       "      <td>0.180</td>\n",
       "      <td>0.048</td>\n",
       "      <td>5.114</td>\n",
       "      <td>101</td>\n",
       "      <td>1028</td>\n",
       "      <td>1</td>\n",
       "    </tr>\n",
       "    <tr>\n",
       "      <th>2</th>\n",
       "      <td>0.06</td>\n",
       "      <td>0.00</td>\n",
       "      <td>0.71</td>\n",
       "      <td>0.0</td>\n",
       "      <td>1.23</td>\n",
       "      <td>0.19</td>\n",
       "      <td>0.19</td>\n",
       "      <td>0.12</td>\n",
       "      <td>0.64</td>\n",
       "      <td>0.25</td>\n",
       "      <td>...</td>\n",
       "      <td>0.01</td>\n",
       "      <td>0.143</td>\n",
       "      <td>0.0</td>\n",
       "      <td>0.276</td>\n",
       "      <td>0.184</td>\n",
       "      <td>0.010</td>\n",
       "      <td>9.821</td>\n",
       "      <td>485</td>\n",
       "      <td>2259</td>\n",
       "      <td>1</td>\n",
       "    </tr>\n",
       "    <tr>\n",
       "      <th>3</th>\n",
       "      <td>0.00</td>\n",
       "      <td>0.00</td>\n",
       "      <td>0.00</td>\n",
       "      <td>0.0</td>\n",
       "      <td>0.63</td>\n",
       "      <td>0.00</td>\n",
       "      <td>0.31</td>\n",
       "      <td>0.63</td>\n",
       "      <td>0.31</td>\n",
       "      <td>0.63</td>\n",
       "      <td>...</td>\n",
       "      <td>0.00</td>\n",
       "      <td>0.137</td>\n",
       "      <td>0.0</td>\n",
       "      <td>0.137</td>\n",
       "      <td>0.000</td>\n",
       "      <td>0.000</td>\n",
       "      <td>3.537</td>\n",
       "      <td>40</td>\n",
       "      <td>191</td>\n",
       "      <td>1</td>\n",
       "    </tr>\n",
       "    <tr>\n",
       "      <th>4</th>\n",
       "      <td>0.00</td>\n",
       "      <td>0.00</td>\n",
       "      <td>0.00</td>\n",
       "      <td>0.0</td>\n",
       "      <td>0.63</td>\n",
       "      <td>0.00</td>\n",
       "      <td>0.31</td>\n",
       "      <td>0.63</td>\n",
       "      <td>0.31</td>\n",
       "      <td>0.63</td>\n",
       "      <td>...</td>\n",
       "      <td>0.00</td>\n",
       "      <td>0.135</td>\n",
       "      <td>0.0</td>\n",
       "      <td>0.135</td>\n",
       "      <td>0.000</td>\n",
       "      <td>0.000</td>\n",
       "      <td>3.537</td>\n",
       "      <td>40</td>\n",
       "      <td>191</td>\n",
       "      <td>1</td>\n",
       "    </tr>\n",
       "  </tbody>\n",
       "</table>\n",
       "<p>5 rows × 58 columns</p>\n",
       "</div>"
      ],
      "text/plain": [
       "   b'word_freq_make  b'word_freq_address  b'word_freq_all  b'word_freq_3d  \\\n",
       "0              0.00                 0.64             0.64             0.0   \n",
       "1              0.21                 0.28             0.50             0.0   \n",
       "2              0.06                 0.00             0.71             0.0   \n",
       "3              0.00                 0.00             0.00             0.0   \n",
       "4              0.00                 0.00             0.00             0.0   \n",
       "\n",
       "   b'word_freq_our  b'word_freq_over  b'word_freq_remove  \\\n",
       "0             0.32              0.00                0.00   \n",
       "1             0.14              0.28                0.21   \n",
       "2             1.23              0.19                0.19   \n",
       "3             0.63              0.00                0.31   \n",
       "4             0.63              0.00                0.31   \n",
       "\n",
       "   b'word_freq_internet  b'word_freq_order  b'word_freq_mail  ...   \\\n",
       "0                  0.00               0.00              0.00  ...    \n",
       "1                  0.07               0.00              0.94  ...    \n",
       "2                  0.12               0.64              0.25  ...    \n",
       "3                  0.63               0.31              0.63  ...    \n",
       "4                  0.63               0.31              0.63  ...    \n",
       "\n",
       "   b'char_freq_;  b'char_freq_(  b'char_freq_[  b'char_freq_!  b'char_freq_$  \\\n",
       "0           0.00          0.000            0.0          0.778          0.000   \n",
       "1           0.00          0.132            0.0          0.372          0.180   \n",
       "2           0.01          0.143            0.0          0.276          0.184   \n",
       "3           0.00          0.137            0.0          0.137          0.000   \n",
       "4           0.00          0.135            0.0          0.135          0.000   \n",
       "\n",
       "   b'char_freq_#  b'capital_run_length_average  b'capital_run_length_longest  \\\n",
       "0          0.000                         3.756                            61   \n",
       "1          0.048                         5.114                           101   \n",
       "2          0.010                         9.821                           485   \n",
       "3          0.000                         3.537                            40   \n",
       "4          0.000                         3.537                            40   \n",
       "\n",
       "   b'capital_run_length_total  spam  \n",
       "0                         278     1  \n",
       "1                        1028     1  \n",
       "2                        2259     1  \n",
       "3                         191     1  \n",
       "4                         191     1  \n",
       "\n",
       "[5 rows x 58 columns]"
      ]
     },
     "execution_count": 2,
     "metadata": {},
     "output_type": "execute_result"
    }
   ],
   "source": [
    "import pandas\n",
    "import urllib.request as urllib2\n",
    "\n",
    "SPAMBASE_NAMES_URL = 'https://archive.ics.uci.edu/ml/machine-learning-databases/spambase/spambase.names'\n",
    "SPAMBASE_DATA_URL = 'https://archive.ics.uci.edu/ml/machine-learning-databases/spambase/spambase.data'\n",
    "\n",
    "feature_names = [\n",
    "    str(line.strip()).split(':')[0] \n",
    "    for line in urllib2.urlopen(SPAMBASE_NAMES_URL).readlines()[33:]\n",
    "]\n",
    "spam_data = pandas.read_csv(SPAMBASE_DATA_URL, header=None, names=(feature_names + ['spam']))\n",
    " \n",
    "X, y = spam_data.ix[:, :-1].values, spam_data.ix[:, -1].values\n",
    " \n",
    "spam_data.head()"
   ]
  },
  {
   "cell_type": "markdown",
   "metadata": {
    "collapsed": true
   },
   "source": [
    "**Задание**\n",
    "- Сколько примеров писем в датасете?\n",
    "- Какова доля плохих писем?\n",
    "- Какие характерные группы признаков представлены в наборе?"
   ]
  },
  {
   "cell_type": "code",
   "execution_count": 3,
   "metadata": {
    "collapsed": false
   },
   "outputs": [
    {
     "data": {
      "text/html": [
       "<div>\n",
       "<table border=\"1\" class=\"dataframe\">\n",
       "  <thead>\n",
       "    <tr style=\"text-align: right;\">\n",
       "      <th></th>\n",
       "      <th>b'word_freq_make</th>\n",
       "      <th>b'word_freq_address</th>\n",
       "      <th>b'word_freq_all</th>\n",
       "      <th>b'word_freq_3d</th>\n",
       "      <th>b'word_freq_our</th>\n",
       "      <th>b'word_freq_over</th>\n",
       "      <th>b'word_freq_remove</th>\n",
       "      <th>b'word_freq_internet</th>\n",
       "      <th>b'word_freq_order</th>\n",
       "      <th>b'word_freq_mail</th>\n",
       "      <th>...</th>\n",
       "      <th>b'char_freq_;</th>\n",
       "      <th>b'char_freq_(</th>\n",
       "      <th>b'char_freq_[</th>\n",
       "      <th>b'char_freq_!</th>\n",
       "      <th>b'char_freq_$</th>\n",
       "      <th>b'char_freq_#</th>\n",
       "      <th>b'capital_run_length_average</th>\n",
       "      <th>b'capital_run_length_longest</th>\n",
       "      <th>b'capital_run_length_total</th>\n",
       "      <th>spam</th>\n",
       "    </tr>\n",
       "  </thead>\n",
       "  <tbody>\n",
       "    <tr>\n",
       "      <th>count</th>\n",
       "      <td>4601.000000</td>\n",
       "      <td>4601.000000</td>\n",
       "      <td>4601.000000</td>\n",
       "      <td>4601.000000</td>\n",
       "      <td>4601.000000</td>\n",
       "      <td>4601.000000</td>\n",
       "      <td>4601.000000</td>\n",
       "      <td>4601.000000</td>\n",
       "      <td>4601.000000</td>\n",
       "      <td>4601.000000</td>\n",
       "      <td>...</td>\n",
       "      <td>4601.000000</td>\n",
       "      <td>4601.000000</td>\n",
       "      <td>4601.000000</td>\n",
       "      <td>4601.000000</td>\n",
       "      <td>4601.000000</td>\n",
       "      <td>4601.000000</td>\n",
       "      <td>4601.000000</td>\n",
       "      <td>4601.000000</td>\n",
       "      <td>4601.000000</td>\n",
       "      <td>4601.000000</td>\n",
       "    </tr>\n",
       "    <tr>\n",
       "      <th>mean</th>\n",
       "      <td>0.104553</td>\n",
       "      <td>0.213015</td>\n",
       "      <td>0.280656</td>\n",
       "      <td>0.065425</td>\n",
       "      <td>0.312223</td>\n",
       "      <td>0.095901</td>\n",
       "      <td>0.114208</td>\n",
       "      <td>0.105295</td>\n",
       "      <td>0.090067</td>\n",
       "      <td>0.239413</td>\n",
       "      <td>...</td>\n",
       "      <td>0.038575</td>\n",
       "      <td>0.139030</td>\n",
       "      <td>0.016976</td>\n",
       "      <td>0.269071</td>\n",
       "      <td>0.075811</td>\n",
       "      <td>0.044238</td>\n",
       "      <td>5.191515</td>\n",
       "      <td>52.172789</td>\n",
       "      <td>283.289285</td>\n",
       "      <td>0.394045</td>\n",
       "    </tr>\n",
       "    <tr>\n",
       "      <th>std</th>\n",
       "      <td>0.305358</td>\n",
       "      <td>1.290575</td>\n",
       "      <td>0.504143</td>\n",
       "      <td>1.395151</td>\n",
       "      <td>0.672513</td>\n",
       "      <td>0.273824</td>\n",
       "      <td>0.391441</td>\n",
       "      <td>0.401071</td>\n",
       "      <td>0.278616</td>\n",
       "      <td>0.644755</td>\n",
       "      <td>...</td>\n",
       "      <td>0.243471</td>\n",
       "      <td>0.270355</td>\n",
       "      <td>0.109394</td>\n",
       "      <td>0.815672</td>\n",
       "      <td>0.245882</td>\n",
       "      <td>0.429342</td>\n",
       "      <td>31.729449</td>\n",
       "      <td>194.891310</td>\n",
       "      <td>606.347851</td>\n",
       "      <td>0.488698</td>\n",
       "    </tr>\n",
       "    <tr>\n",
       "      <th>min</th>\n",
       "      <td>0.000000</td>\n",
       "      <td>0.000000</td>\n",
       "      <td>0.000000</td>\n",
       "      <td>0.000000</td>\n",
       "      <td>0.000000</td>\n",
       "      <td>0.000000</td>\n",
       "      <td>0.000000</td>\n",
       "      <td>0.000000</td>\n",
       "      <td>0.000000</td>\n",
       "      <td>0.000000</td>\n",
       "      <td>...</td>\n",
       "      <td>0.000000</td>\n",
       "      <td>0.000000</td>\n",
       "      <td>0.000000</td>\n",
       "      <td>0.000000</td>\n",
       "      <td>0.000000</td>\n",
       "      <td>0.000000</td>\n",
       "      <td>1.000000</td>\n",
       "      <td>1.000000</td>\n",
       "      <td>1.000000</td>\n",
       "      <td>0.000000</td>\n",
       "    </tr>\n",
       "    <tr>\n",
       "      <th>25%</th>\n",
       "      <td>0.000000</td>\n",
       "      <td>0.000000</td>\n",
       "      <td>0.000000</td>\n",
       "      <td>0.000000</td>\n",
       "      <td>0.000000</td>\n",
       "      <td>0.000000</td>\n",
       "      <td>0.000000</td>\n",
       "      <td>0.000000</td>\n",
       "      <td>0.000000</td>\n",
       "      <td>0.000000</td>\n",
       "      <td>...</td>\n",
       "      <td>0.000000</td>\n",
       "      <td>0.000000</td>\n",
       "      <td>0.000000</td>\n",
       "      <td>0.000000</td>\n",
       "      <td>0.000000</td>\n",
       "      <td>0.000000</td>\n",
       "      <td>1.588000</td>\n",
       "      <td>6.000000</td>\n",
       "      <td>35.000000</td>\n",
       "      <td>0.000000</td>\n",
       "    </tr>\n",
       "    <tr>\n",
       "      <th>50%</th>\n",
       "      <td>0.000000</td>\n",
       "      <td>0.000000</td>\n",
       "      <td>0.000000</td>\n",
       "      <td>0.000000</td>\n",
       "      <td>0.000000</td>\n",
       "      <td>0.000000</td>\n",
       "      <td>0.000000</td>\n",
       "      <td>0.000000</td>\n",
       "      <td>0.000000</td>\n",
       "      <td>0.000000</td>\n",
       "      <td>...</td>\n",
       "      <td>0.000000</td>\n",
       "      <td>0.065000</td>\n",
       "      <td>0.000000</td>\n",
       "      <td>0.000000</td>\n",
       "      <td>0.000000</td>\n",
       "      <td>0.000000</td>\n",
       "      <td>2.276000</td>\n",
       "      <td>15.000000</td>\n",
       "      <td>95.000000</td>\n",
       "      <td>0.000000</td>\n",
       "    </tr>\n",
       "    <tr>\n",
       "      <th>75%</th>\n",
       "      <td>0.000000</td>\n",
       "      <td>0.000000</td>\n",
       "      <td>0.420000</td>\n",
       "      <td>0.000000</td>\n",
       "      <td>0.380000</td>\n",
       "      <td>0.000000</td>\n",
       "      <td>0.000000</td>\n",
       "      <td>0.000000</td>\n",
       "      <td>0.000000</td>\n",
       "      <td>0.160000</td>\n",
       "      <td>...</td>\n",
       "      <td>0.000000</td>\n",
       "      <td>0.188000</td>\n",
       "      <td>0.000000</td>\n",
       "      <td>0.315000</td>\n",
       "      <td>0.052000</td>\n",
       "      <td>0.000000</td>\n",
       "      <td>3.706000</td>\n",
       "      <td>43.000000</td>\n",
       "      <td>266.000000</td>\n",
       "      <td>1.000000</td>\n",
       "    </tr>\n",
       "    <tr>\n",
       "      <th>max</th>\n",
       "      <td>4.540000</td>\n",
       "      <td>14.280000</td>\n",
       "      <td>5.100000</td>\n",
       "      <td>42.810000</td>\n",
       "      <td>10.000000</td>\n",
       "      <td>5.880000</td>\n",
       "      <td>7.270000</td>\n",
       "      <td>11.110000</td>\n",
       "      <td>5.260000</td>\n",
       "      <td>18.180000</td>\n",
       "      <td>...</td>\n",
       "      <td>4.385000</td>\n",
       "      <td>9.752000</td>\n",
       "      <td>4.081000</td>\n",
       "      <td>32.478000</td>\n",
       "      <td>6.003000</td>\n",
       "      <td>19.829000</td>\n",
       "      <td>1102.500000</td>\n",
       "      <td>9989.000000</td>\n",
       "      <td>15841.000000</td>\n",
       "      <td>1.000000</td>\n",
       "    </tr>\n",
       "  </tbody>\n",
       "</table>\n",
       "<p>8 rows × 58 columns</p>\n",
       "</div>"
      ],
      "text/plain": [
       "       b'word_freq_make  b'word_freq_address  b'word_freq_all  b'word_freq_3d  \\\n",
       "count       4601.000000          4601.000000      4601.000000     4601.000000   \n",
       "mean           0.104553             0.213015         0.280656        0.065425   \n",
       "std            0.305358             1.290575         0.504143        1.395151   \n",
       "min            0.000000             0.000000         0.000000        0.000000   \n",
       "25%            0.000000             0.000000         0.000000        0.000000   \n",
       "50%            0.000000             0.000000         0.000000        0.000000   \n",
       "75%            0.000000             0.000000         0.420000        0.000000   \n",
       "max            4.540000            14.280000         5.100000       42.810000   \n",
       "\n",
       "       b'word_freq_our  b'word_freq_over  b'word_freq_remove  \\\n",
       "count      4601.000000       4601.000000         4601.000000   \n",
       "mean          0.312223          0.095901            0.114208   \n",
       "std           0.672513          0.273824            0.391441   \n",
       "min           0.000000          0.000000            0.000000   \n",
       "25%           0.000000          0.000000            0.000000   \n",
       "50%           0.000000          0.000000            0.000000   \n",
       "75%           0.380000          0.000000            0.000000   \n",
       "max          10.000000          5.880000            7.270000   \n",
       "\n",
       "       b'word_freq_internet  b'word_freq_order  b'word_freq_mail     ...       \\\n",
       "count           4601.000000        4601.000000       4601.000000     ...        \n",
       "mean               0.105295           0.090067          0.239413     ...        \n",
       "std                0.401071           0.278616          0.644755     ...        \n",
       "min                0.000000           0.000000          0.000000     ...        \n",
       "25%                0.000000           0.000000          0.000000     ...        \n",
       "50%                0.000000           0.000000          0.000000     ...        \n",
       "75%                0.000000           0.000000          0.160000     ...        \n",
       "max               11.110000           5.260000         18.180000     ...        \n",
       "\n",
       "       b'char_freq_;  b'char_freq_(  b'char_freq_[  b'char_freq_!  \\\n",
       "count    4601.000000    4601.000000    4601.000000    4601.000000   \n",
       "mean        0.038575       0.139030       0.016976       0.269071   \n",
       "std         0.243471       0.270355       0.109394       0.815672   \n",
       "min         0.000000       0.000000       0.000000       0.000000   \n",
       "25%         0.000000       0.000000       0.000000       0.000000   \n",
       "50%         0.000000       0.065000       0.000000       0.000000   \n",
       "75%         0.000000       0.188000       0.000000       0.315000   \n",
       "max         4.385000       9.752000       4.081000      32.478000   \n",
       "\n",
       "       b'char_freq_$  b'char_freq_#  b'capital_run_length_average  \\\n",
       "count    4601.000000    4601.000000                   4601.000000   \n",
       "mean        0.075811       0.044238                      5.191515   \n",
       "std         0.245882       0.429342                     31.729449   \n",
       "min         0.000000       0.000000                      1.000000   \n",
       "25%         0.000000       0.000000                      1.588000   \n",
       "50%         0.000000       0.000000                      2.276000   \n",
       "75%         0.052000       0.000000                      3.706000   \n",
       "max         6.003000      19.829000                   1102.500000   \n",
       "\n",
       "       b'capital_run_length_longest  b'capital_run_length_total         spam  \n",
       "count                   4601.000000                 4601.000000  4601.000000  \n",
       "mean                      52.172789                  283.289285     0.394045  \n",
       "std                      194.891310                  606.347851     0.488698  \n",
       "min                        1.000000                    1.000000     0.000000  \n",
       "25%                        6.000000                   35.000000     0.000000  \n",
       "50%                       15.000000                   95.000000     0.000000  \n",
       "75%                       43.000000                  266.000000     1.000000  \n",
       "max                     9989.000000                15841.000000     1.000000  \n",
       "\n",
       "[8 rows x 58 columns]"
      ]
     },
     "execution_count": 3,
     "metadata": {},
     "output_type": "execute_result"
    }
   ],
   "source": [
    "spam_data.describe()"
   ]
  },
  {
   "cell_type": "markdown",
   "metadata": {},
   "source": [
    "4601 письмо, ~40% спама"
   ]
  },
  {
   "cell_type": "code",
   "execution_count": 4,
   "metadata": {
    "collapsed": false
   },
   "outputs": [
    {
     "name": "stdout",
     "output_type": "stream",
     "text": [
      "b'1. Title:  SPAM E-mail Database'\n",
      "b'2. Sources:'\n",
      "b'(a) Creators: Mark Hopkins, Erik Reeber, George Forman, Jaap Suermondt'\n",
      "b'Hewlett-Packard Labs, 1501 Page Mill Rd., Palo Alto, CA 94304'\n",
      "b'(b) Donor: George Forman (gforman at nospam hpl.hp.com)  650-857-7835'\n",
      "b'(c) Generated: June-July 1999'\n",
      "b'3. Past Usage:'\n",
      "b'(a) Hewlett-Packard Internal-only Technical Report. External forthcoming.'\n",
      "b'(b) Determine whether a given email is spam or not.'\n",
      "b'(c) ~7% misclassification error.'\n",
      "b'False positives (marking good mail as spam) are very undesirable.'\n",
      "b'If we insist on zero false positives in the training/testing set,'\n",
      "b'20-25% of the spam passed through the filter.'\n",
      "b'4. Relevant Information:'\n",
      "b'The \"spam\" concept is diverse: advertisements for products/web'\n",
      "b'sites, make money fast schemes, chain letters, pornography...'\n",
      "b'Our collection of spam e-mails came from our postmaster and'\n",
      "b'individuals who had filed spam.  Our collection of non-spam'\n",
      "b'e-mails came from filed work and personal e-mails, and hence'\n",
      "b\"the word 'george' and the area code '650' are indicators of\"\n",
      "b'non-spam.  These are useful when constructing a personalized'\n",
      "b'spam filter.  One would either have to blind such non-spam'\n",
      "b'indicators or get a very wide collection of non-spam to'\n",
      "b'generate a general purpose spam filter.'\n",
      "b'For background on spam:'\n",
      "b'Cranor, Lorrie F., LaMacchia, Brian A.  Spam!'\n",
      "b'Communications of the ACM, 41(8):74-83, 1998.'\n",
      "b'5. Number of Instances: 4601 (1813 Spam = 39.4%)'\n",
      "b'6. Number of Attributes: 58 (57 continuous, 1 nominal class label)'\n",
      "b'7. Attribute Information:'\n",
      "b\"The last column of 'spambase.data' denotes whether the e-mail was\"\n",
      "b'considered spam (1) or not (0), i.e. unsolicited commercial e-mail.'\n",
      "b'Most of the attributes indicate whether a particular word or'\n",
      "b'character was frequently occuring in the e-mail.  The run-length'\n",
      "b'attributes (55-57) measure the length of sequences of consecutive'\n",
      "b'capital letters.  For the statistical measures of each attribute,'\n",
      "b'see the end of this file.  Here are the definitions of the attributes:'\n",
      "b'48 continuous real [0,100] attributes of type word_freq_WORD'\n",
      "b'= percentage of words in the e-mail that match WORD,'\n",
      "b'i.e. 100 * (number of times the WORD appears in the e-mail) /'\n",
      "b'total number of words in e-mail.  A \"word\" in this case is any'\n",
      "b'string of alphanumeric characters bounded by non-alphanumeric'\n",
      "b'characters or end-of-string.'\n",
      "b'6 continuous real [0,100] attributes of type char_freq_CHAR'\n",
      "b'= percentage of characters in the e-mail that match CHAR,'\n",
      "b'i.e. 100 * (number of CHAR occurences) / total characters in e-mail'\n",
      "b'1 continuous real [1,...] attribute of type capital_run_length_average'\n",
      "b'= average length of uninterrupted sequences of capital letters'\n",
      "b'1 continuous integer [1,...] attribute of type capital_run_length_longest'\n",
      "b'= length of longest uninterrupted sequence of capital letters'\n",
      "b'1 continuous integer [1,...] attribute of type capital_run_length_total'\n",
      "b'= sum of length of uninterrupted sequences of capital letters'\n",
      "b'= total number of capital letters in the e-mail'\n",
      "b'1 nominal {0,1} class attribute of type spam'\n",
      "b'= denotes whether the e-mail was considered spam (1) or not (0),'\n",
      "b'i.e. unsolicited commercial e-mail.'\n",
      "b'8. Missing Attribute Values: None'\n",
      "b'9. Class Distribution:'\n",
      "b'Spam\\t  1813  (39.4%)'\n",
      "b'Non-Spam  2788  (60.6%)'\n",
      "b'Attribute Statistics:'\n",
      "b'Min: Max:   Average:  Std.Dev: Coeff.Var_%:'\n",
      "b'1  0    4.54   0.10455   0.30536  292'\n",
      "b'2  0    14.28  0.21301   1.2906   606'\n",
      "b'3  0    5.1    0.28066   0.50414  180'\n",
      "b'4  0    42.81  0.065425  1.3952   2130'\n",
      "b'5  0    10     0.31222   0.67251  215'\n",
      "b'6  0    5.88   0.095901  0.27382  286'\n",
      "b'7  0    7.27   0.11421   0.39144  343'\n",
      "b'8  0    11.11  0.10529   0.40107  381'\n",
      "b'9  0    5.26   0.090067  0.27862  309'\n",
      "b'10 0    18.18  0.23941   0.64476  269'\n",
      "b'11 0    2.61   0.059824  0.20154  337'\n",
      "b'12 0    9.67   0.5417    0.8617   159'\n",
      "b'13 0    5.55   0.09393   0.30104  320'\n",
      "b'14 0    10     0.058626  0.33518  572'\n",
      "b'15 0    4.41   0.049205  0.25884  526'\n",
      "b'16 0    20     0.24885   0.82579  332'\n",
      "b'17 0    7.14   0.14259   0.44406  311'\n",
      "b'18 0    9.09   0.18474   0.53112  287'\n",
      "b'19 0    18.75  1.6621    1.7755   107'\n",
      "b'20 0    18.18  0.085577  0.50977  596'\n",
      "b'21 0    11.11  0.80976   1.2008   148'\n",
      "b'22 0    17.1   0.1212    1.0258   846'\n",
      "b'23 0    5.45   0.10165   0.35029  345'\n",
      "b'24 0    12.5   0.094269  0.44264  470'\n",
      "b'25 0    20.83  0.5495    1.6713   304'\n",
      "b'26 0    16.66  0.26538   0.88696  334'\n",
      "b'27 0    33.33  0.7673    3.3673   439'\n",
      "b'28 0    9.09   0.12484   0.53858  431'\n",
      "b'29 0    14.28  0.098915  0.59333  600'\n",
      "b'30 0    5.88   0.10285   0.45668  444'\n",
      "b'31 0    12.5   0.064753  0.40339  623'\n",
      "b'32 0    4.76   0.047048  0.32856  698'\n",
      "b'33 0    18.18  0.097229  0.55591  572'\n",
      "b'34 0    4.76   0.047835  0.32945  689'\n",
      "b'35 0    20     0.10541   0.53226  505'\n",
      "b'36 0    7.69   0.097477  0.40262  413'\n",
      "b'37 0    6.89   0.13695   0.42345  309'\n",
      "b'38 0    8.33   0.013201  0.22065  1670'\n",
      "b'39 0    11.11  0.078629  0.43467  553'\n",
      "b'40 0    4.76   0.064834  0.34992  540'\n",
      "b'41 0    7.14   0.043667  0.3612   827'\n",
      "b'42 0    14.28  0.13234   0.76682  579'\n",
      "b'43 0    3.57   0.046099  0.22381  486'\n",
      "b'44 0    20     0.079196  0.62198  785'\n",
      "b'45 0    21.42  0.30122   1.0117   336'\n",
      "b'46 0    22.05  0.17982   0.91112  507'\n",
      "b'47 0    2.17   0.0054445 0.076274 1400'\n",
      "b'48 0    10     0.031869  0.28573  897'\n",
      "b'49 0    4.385  0.038575  0.24347  631'\n",
      "b'50 0    9.752  0.13903   0.27036  194'\n",
      "b'51 0    4.081  0.016976  0.10939  644'\n",
      "b'52 0    32.478 0.26907   0.81567  303'\n",
      "b'53 0    6.003  0.075811  0.24588  324'\n",
      "b'54 0    19.829 0.044238  0.42934  971'\n",
      "b'55 1    1102.5 5.1915    31.729   611'\n",
      "b'56 1    9989   52.173    194.89   374'\n",
      "b'57 1    15841  283.29    606.35   214'\n",
      "b'58 0    1      0.39404   0.4887   124'\n",
      "b\"This file: 'spambase.DOCUMENTATION' at the UCI Machine Learning Repository\"\n",
      "b'http://www.ics.uci.edu/~mlearn/MLRepository.html'\n"
     ]
    }
   ],
   "source": [
    "page = urllib2.urlopen('https://archive.ics.uci.edu/ml/machine-learning-databases/spambase/spambase.DOCUMENTATION')\n",
    "for line in page.readlines():\n",
    "    if line != b'\\r\\n':\n",
    "        print (line.strip())"
   ]
  },
  {
   "cell_type": "markdown",
   "metadata": {},
   "source": [
    "Большая часть признаков частоты различных слов. Есть также другие несколько признаков - например средняя длина подряд идущих последовательностей из больших букв"
   ]
  },
  {
   "cell_type": "markdown",
   "metadata": {},
   "source": [
    "### Обучение классификатора и оценка его качества"
   ]
  },
  {
   "cell_type": "markdown",
   "metadata": {
    "collapsed": true
   },
   "source": [
    "Обучение и оценка качества модели производится на независимых множествах примеров. Как правило, имеющующиеся примеры разбивают на два подмножества: обучение (train) и контроль (test). Выбор пропорции разбиения — компромисс: большой размер обучения ведет к более богатым информацией и качественным алгоритмам, большой размер контрольной выборки ведет к менее шумной оценке качества.\n",
    "\n",
    "Для оценки качества классификации рассматривают матрицу ошибок: строчки соответствуют истинному классу, столбцы — предсказанному классификатором, ячейки содержат число примеров тестовой выборки.\n",
    "\n",
    "<img src=\"confusion_matrix.png\">"
   ]
  },
  {
   "cell_type": "markdown",
   "metadata": {
    "collapsed": true
   },
   "source": [
    "Диагональ матрицы ошибок содержит правильно классифицированные положительные (TP) и отрицательные (TN) примеры. False Positive (FP) — ошибки I рода (ложное срабатывание, положили в спам хорошее письмо), False Negative (FN) — ошибки II рода (не отфильтровали спам). Ошибки I и II рода могут иметь различную стоимость.\n",
    "\n",
    "Часто рассматриваются следующие метрики качества бинарной классификации:\n",
    "\n",
    "- Accuracy = (TP + TN) / (TP + TN + FP + FN) — доля правильных ответов\n",
    "- Precision = TP / (TP + FP) — точность, доля спама среди писем, классифицированных как спам\n",
    "- Recall = TP / (TP + FN) — полнота, доля спама, которая была отфильтрована\n",
    "- F1 = 2TP / (2TP + FP + FN) — среднее гармоническое между точностью и полнотой"
   ]
  },
  {
   "cell_type": "markdown",
   "metadata": {
    "collapsed": true
   },
   "source": [
    "**Задание**\n",
    "- Разбейте набор примеров на две непересекающиеся подвыборки следующим образом: train — первые 3000 примеров (≈65%), test — все остальные примеры.\n",
    "- Обучите решающее дерево на train. Классифицируйте примеры из test. Посчитайте метрики качества классификации, описанные выше: Accuracy, Precision, Recall, F1. Рекомендованные параметры решающего дерева: разбиение по критерию gini, максимальная глубина: 7.\n",
    "- Какие есть недостатки у получившейся оценки качества на подвыборке test? Как можно сделать оценку качества более информативной?\n",
    "- Повторите эксперимент, перемешав случайно объекты исходной выборки перед разбиением.\n",
    "- Какие признаки оказались наиболее важными для определения спама? Воспользуйтесь оценками важности признаков, полученых при построении решающего дерева.\n",
    "- Какое качество дает лучшая константная модель (определяющая класс определенно и вне зависимости от признаков)?\n",
    "- Обучите модель KNN и оцените ее качество на test. Рекомендованные параметры: K=10, евклидова метрика в качестве расстояния.\n",
    "- Обучите модель KNN, предварительно приведя значения признаков к одинаковому масштабу. Оцените качество полученной модели на test. Дает ли подобное преобразование признаков прирост качества для модели KNN? Проделайте тот же эксперимент с решающим деревом. Почему масштабирование признаков не влияет на качество решающего дерева, но повышает качество классификации модели KNN?\n",
    "- Сравните все обученные модели по всем метрикам.\n"
   ]
  },
  {
   "cell_type": "markdown",
   "metadata": {
    "collapsed": true
   },
   "source": [
    "В итоге должны быть построены и сравнены между собой следующие модели:\n",
    "\n",
    "1) Константная модель\n",
    "2) Решающее дерево\n",
    "3) KNN\n",
    "4) KNN с масштабированием признаков"
   ]
  },
  {
   "cell_type": "code",
   "execution_count": 5,
   "metadata": {
    "collapsed": true
   },
   "outputs": [],
   "source": [
    "from sklearn.cross_validation import train_test_split\n",
    "from sklearn.tree import DecisionTreeClassifier\n",
    "from sklearn.neighbors import KNeighborsClassifier\n",
    "from sklearn.dummy import DummyClassifier\n",
    "from sklearn.metrics import precision_score, recall_score, accuracy_score, f1_score\n",
    "import warnings\n",
    "\n",
    "warnings.simplefilter('ignore')"
   ]
  },
  {
   "cell_type": "code",
   "execution_count": 6,
   "metadata": {
    "collapsed": false
   },
   "outputs": [],
   "source": [
    "X_train, y_train = spam_data[:3000].drop('spam', axis=1), spam_data[:3000].spam\n",
    "X_test, y_test = spam_data[3000:].drop('spam', axis=1), spam_data[3000:].spam"
   ]
  },
  {
   "cell_type": "code",
   "execution_count": 7,
   "metadata": {
    "collapsed": true
   },
   "outputs": [],
   "source": [
    "clf = DecisionTreeClassifier(max_depth=7, criterion='gini', random_state=727)\n",
    "clf.fit(X_train, y_train)\n",
    "y_pred = clf.predict(X_test)"
   ]
  },
  {
   "cell_type": "code",
   "execution_count": 8,
   "metadata": {
    "collapsed": true
   },
   "outputs": [],
   "source": [
    "def print_score(y_pred, y_test):\n",
    "    print ('accuracy: {:.5f} \\nprecision: {:.5f} \\\n",
    "           \\nrecall: {:.5f} \\nf1: {:.5f}'.format(accuracy_score(y_test, y_pred), precision_score(y_test, y_pred), \n",
    "                                                 recall_score(y_test, y_pred), f1_score(y_test, y_pred)))"
   ]
  },
  {
   "cell_type": "code",
   "execution_count": 9,
   "metadata": {
    "collapsed": false
   },
   "outputs": [
    {
     "name": "stdout",
     "output_type": "stream",
     "text": [
      "accuracy: 0.77139 \n",
      "precision: 0.00000            \n",
      "recall: 0.00000 \n",
      "f1: 0.00000\n"
     ]
    }
   ],
   "source": [
    "print_score(y_pred, y_test)"
   ]
  },
  {
   "cell_type": "code",
   "execution_count": 10,
   "metadata": {
    "collapsed": false
   },
   "outputs": [
    {
     "data": {
      "text/plain": [
       "(0.0, 0.60433333333333328)"
      ]
     },
     "execution_count": 10,
     "metadata": {},
     "output_type": "execute_result"
    }
   ],
   "source": [
    "np.mean(y_test), np.mean(y_train)"
   ]
  },
  {
   "cell_type": "markdown",
   "metadata": {},
   "source": [
    "Сразу становится понятно, почему скор классификатора смысла не имеет. В тестовой выборке просто напросто нет писем со спамом. Результат можно улучшить сделав рандомное разделение на тестовую и тренировочную выборки - что собственно и реализовано далее"
   ]
  },
  {
   "cell_type": "code",
   "execution_count": 11,
   "metadata": {
    "collapsed": true
   },
   "outputs": [],
   "source": [
    "dtrain, dtest = train_test_split(spam_data, train_size=3000, random_state=443)\n",
    "X_train, y_train = dtrain.drop('spam', axis = 1), dtrain.spam\n",
    "X_test, y_test = dtest.drop('spam', axis=1), dtest.spam"
   ]
  },
  {
   "cell_type": "code",
   "execution_count": 12,
   "metadata": {
    "collapsed": true
   },
   "outputs": [],
   "source": [
    "clf.fit(X_train, y_train)\n",
    "y_pred = clf.predict(X_test)"
   ]
  },
  {
   "cell_type": "code",
   "execution_count": 13,
   "metadata": {
    "collapsed": false
   },
   "outputs": [
    {
     "name": "stdout",
     "output_type": "stream",
     "text": [
      "accuracy: 0.91380 \n",
      "precision: 0.90984            \n",
      "recall: 0.86991 \n",
      "f1: 0.88942\n"
     ]
    }
   ],
   "source": [
    "print_score(y_pred, y_test)"
   ]
  },
  {
   "cell_type": "code",
   "execution_count": 14,
   "metadata": {
    "collapsed": false
   },
   "outputs": [
    {
     "name": "stdout",
     "output_type": "stream",
     "text": [
      "0.434213532984 b'char_freq_!\n",
      "0.121538070237 b'capital_run_length_longest\n",
      "0.1047254396 b'char_freq_$\n",
      "0.0698921714381 b'word_freq_hp\n",
      "0.0577686289588 b'word_freq_free\n",
      "0.0573148876252 b'word_freq_remove\n",
      "0.0224515580439 b'capital_run_length_average\n",
      "0.0188836871155 b'word_freq_edu\n",
      "0.0174867287717 b'word_freq_george\n",
      "0.0142177327073 b'word_freq_business\n",
      "0.0104854080665 b'word_freq_internet\n",
      "0.00854433216806 b'word_freq_our\n",
      "0.00851693842572 b'word_freq_email\n",
      "0.00817070542278 b'capital_run_length_total\n",
      "0.00811455859463 b'word_freq_your\n",
      "0.00486963627573 b'word_freq_meeting\n",
      "0.00477736244329 b'word_freq_cs\n",
      "0.0042233938022 b'word_freq_people\n",
      "0.00403119180768 b'word_freq_money\n",
      "0.00335882121024 b'word_freq_receive\n",
      "0.00330948756804 b'word_freq_hpl\n",
      "0.00284570919293 b'word_freq_all\n",
      "0.00262409394328 b'word_freq_re\n",
      "0.00161867874635 b'word_freq_mail\n",
      "0.00157073858973 b'word_freq_table\n",
      "0.0015281636945 b'word_freq_data\n",
      "0.00152710696224 b'word_freq_make\n",
      "0.00139123560543 b'char_freq_;\n"
     ]
    }
   ],
   "source": [
    "importances = sorted(zip(clf.feature_importances_, X_train.columns), reverse=True)\n",
    "for x,y in importances:\n",
    "    if x > 0:\n",
    "        print (x,y)"
   ]
  },
  {
   "cell_type": "markdown",
   "metadata": {},
   "source": [
    "Теперь по поводу константных моделей."
   ]
  },
  {
   "cell_type": "code",
   "execution_count": 15,
   "metadata": {
    "collapsed": false
   },
   "outputs": [
    {
     "name": "stdout",
     "output_type": "stream",
     "text": [
      "c: 0\n",
      "accuracy: 0.60150 \n",
      "precision: 0.00000            \n",
      "recall: 0.00000 \n",
      "f1: 0.00000\n",
      "c: 1\n",
      "accuracy: 0.39850 \n",
      "precision: 0.39850            \n",
      "recall: 1.00000 \n",
      "f1: 0.56990\n"
     ]
    }
   ],
   "source": [
    "for k in [0,1]:\n",
    "    dummy_clf = DummyClassifier(strategy='constant', constant=k)\n",
    "    dummy_clf.fit(X_train, y_train)\n",
    "    y_pred = dummy_clf.predict(X_test)\n",
    "    print ('c: %d' % k)\n",
    "    print_score(y_pred, y_test)"
   ]
  },
  {
   "cell_type": "code",
   "execution_count": 16,
   "metadata": {
    "collapsed": false
   },
   "outputs": [
    {
     "name": "stdout",
     "output_type": "stream",
     "text": [
      "accuracy: 0.76765 \n",
      "precision: 0.73665            \n",
      "recall: 0.64890 \n",
      "f1: 0.69000\n"
     ]
    }
   ],
   "source": [
    "knn_clf = KNeighborsClassifier(n_neighbors=10, metric='euclidean')\n",
    "knn_clf.fit(X_train, y_train)\n",
    "y_pred = knn_clf.predict(X_test)\n",
    "print_score(y_pred, y_test)"
   ]
  },
  {
   "cell_type": "code",
   "execution_count": 17,
   "metadata": {
    "collapsed": false
   },
   "outputs": [],
   "source": [
    "normalized_data = (spam_data - spam_data.mean()) / (spam_data.max() - spam_data.min())\n",
    "normalized_data.spam = normalized_data.spam.apply(lambda x: 1 if x > 0 else 0)\n",
    "dtrain, dtest = train_test_split(normalized_data, train_size=3000, random_state=443)\n",
    "X_train_normalized, y_train = dtrain.drop('spam', axis = 1), dtrain.spam\n",
    "X_test_normalized, y_test = dtest.drop('spam', axis=1), dtest.spam"
   ]
  },
  {
   "cell_type": "code",
   "execution_count": 18,
   "metadata": {
    "collapsed": false
   },
   "outputs": [
    {
     "name": "stdout",
     "output_type": "stream",
     "text": [
      "accuracy: 0.88320 \n",
      "precision: 0.90340            \n",
      "recall: 0.79154 \n",
      "f1: 0.84378\n"
     ]
    }
   ],
   "source": [
    "knn_clf_normalized = KNeighborsClassifier(n_neighbors=10, metric='euclidean')\n",
    "knn_clf_normalized.fit(X_train_normalized, y_train)\n",
    "y_pred = knn_clf_normalized.predict(X_test_normalized)\n",
    "print_score(y_pred, y_test)"
   ]
  },
  {
   "cell_type": "markdown",
   "metadata": {},
   "source": [
    "Как видим это дало улучшение скора для KNN, причем значительное. Связно это с тем, что теперь вклад каждого признака в итоговую классификацию стал равноценным. Т.е. не бывает такого, что один признак, который принимает очень большие значения, определяет по факту чему равно расстояние между объектами и очень сильно влияет на классификацию"
   ]
  },
  {
   "cell_type": "code",
   "execution_count": 19,
   "metadata": {
    "collapsed": false
   },
   "outputs": [
    {
     "name": "stdout",
     "output_type": "stream",
     "text": [
      "accuracy: 0.91380 \n",
      "precision: 0.90984            \n",
      "recall: 0.86991 \n",
      "f1: 0.88942\n"
     ]
    }
   ],
   "source": [
    "clf.fit(X_train_normalized, y_train)\n",
    "y_pred = clf.predict(X_test_normalized)\n",
    "print_score(y_pred, y_test)"
   ]
  },
  {
   "cell_type": "markdown",
   "metadata": {},
   "source": [
    "Качество дерева не изменилось потому, что относительное положение фичей объектов в выборке между собой не поменялось. Т.к. дерево по факту все, что делает - это ставит разбиения выборки по какому-то порогу по какой-то фиче в каждой из вершин -, при масштабировании фичей лишь меняются эти пороги. На разделение выборки на части это никак не влияет"
   ]
  },
  {
   "cell_type": "markdown",
   "metadata": {},
   "source": [
    "Итак, как было выявлено, лучше всего для решения данной задачи предположительно подходят решающие деревья. Использовать константый классификатор конечно же не стоит"
   ]
  },
  {
   "cell_type": "markdown",
   "metadata": {
    "collapsed": true
   },
   "source": [
    "### Выбор порога классификации"
   ]
  },
  {
   "cell_type": "markdown",
   "metadata": {
    "collapsed": true
   },
   "source": [
    "Многие модели классификации получают оценку принадлежности положительному классу $y'(x)\\in R$. Затем принимают решение о классе объекта путем сравнения оценки с порогом: $y(x)=+1$, если $y'(x)<\\theta$, $y(x)=−1$, если $y'(x)\\geq\\theta$\n",
    "\n",
    "Матрица ошибок и все производные от нее метрики (Accuracy, Precision, Recall, etc.) зависят от порога $\\theta$.\n",
    "\n",
    "\n",
    "<img src=\"binary_threshold.png\">\n",
    "\n",
    "Для того чтобы видеть изменения метрик при всех значениях порога классификации, рассматривают координатную плоскость, по осям которой отложены значения метрик, а качество работы классификатора представлено в виде кривой — траектории изменения соответствующих метрик при варьировании порога:\n",
    "\n",
    "<img src=\"roc_trajectory.png\">\n",
    "\n",
    "Наиболее распространены ROC-кривые (плоскость TP-vs-FP) и Precision/Recall кривые. Аббревиатура ROC (Receiver Operating Characteristic) была унаследована из инженерного дела.\n",
    "\n",
    "<img src=\"roc_and_pr_curves.png\">\n",
    "\n",
    "В случае, если необходимо сравнить качество классификаторов вне зависимости от порога, применяют интегральные числовые метрики, например AUC-ROC (Area Under ROC) — площадь под ROC-кривой классификатора. AUC-ROC идеально работающего классификатора равно 1. Идеальный случайный классификатор в среднем имеет AUC-ROC=0.5.\n",
    "\n"
   ]
  },
  {
   "cell_type": "markdown",
   "metadata": {},
   "source": [
    "**Задача 1**\n",
    "\n",
    " Определите функционал «доля дефектных пар» для задачи бинарной классификации. Как данный функционал связан с AUC-ROC?\n",
    "\n",
    "http://www.machinelearning.ru/wiki/images/8/89/Voron-ML-Ranking-slides.pdf\n",
    "\n",
    "Изначально рассматривается задача ранжирования документов. Доля дефектных пар - это относительное количество инверсий документов в векторе ответов нашего алгоритма.\n",
    "\n",
    "Теперь объясним этот термин для задач бинарной классификации. Пусть вероятности принадлежности классу 1, выданные алгоритмом на выборке X: $p_1,...,p_n$, а реальные метки классов: $y_1,...,y_n$. БОО можно считать, что индексы объектов идут по возрастанию p. Тогда $DP = \\frac{1}{C_n^2}\\sum\\limits_{i < j} 1_{y_i > y_j}$\n",
    "\n",
    "Теперь найдем связь между DP и ROC-AUC. \n",
    "Пусть $N_+ = \\left|\\{y_i | y_i = 1\\}\\right|, N_- = \\left|\\{y_i | y_i = -1\\}\\right|$. Рассмотрим, как изменятся TPR и FPR при сдвиге вероятностного порога на один объект вниз. Т.е. пусть мы подвинули порог так, что поменялась метка класса для объекта $y_j$.\n",
    "\n",
    "$TPR_{new} = \\begin{cases} TPR_{old} + \\frac{1}{N_+} & y_j = 1 \\\\ TPR_{old} & y_j = -1 \\end{cases} ~~~\n",
    "FPR_{new} = \\begin{cases} FPR_{old} & y_j = 1 \\\\ FPR_{old} + \\frac{1}{N_-} & y_j = -1 \\end{cases}$\n",
    "\n",
    "Тогда, если $y_j = -1$, при прохождении этой точки AUC-ROC увеличится на $\\frac{TPR_{cur}}{N_-} = \n",
    "\\sum\\limits_{i = j + 1}^{n} \\frac{1_{y_i = 1}}{N_+ N_-}$. \n",
    "Таким образом $AUC = \\sum\\limits_{j = 1}^{n} \\sum\\limits_{i = j + 1}^{n} \\frac{1_{y_i = 1}1_{y_j = -1}}{N_+ N_-} = \\sum\\limits_{j < i} \\frac{1_{y_i > y_j}}{N_+ N_-} = \n",
    "\\sum\\limits_{j < i} \\frac{1 - 1_{y_i < y_j} - 1_{y_i = y_j}}{N_+ N_-} =\n",
    "\\frac{C_n^2}{N_+N_-} - \\frac{C_{N_+}^2}{N_+N_-} - \\frac{C_{N_-}^2}{N_+N_-} - \n",
    "\\sum\\limits_{j < i} \\frac{1_{y_i < y_j}}{N_+ N_-} = \\left[n = N_+ + N_-\\right] = 1 - DP\\frac{C_n^2}{N_+N_-}$"
   ]
  },
  {
   "cell_type": "markdown",
   "metadata": {
    "collapsed": true
   },
   "source": [
    "**Задача 2**\n",
    "\n",
    "Приведите пример целевого вектора $y_1, \\ldots , y_l$ и ответов алгоритма $b(x_1),\\ldots,b(x_l)$, для которых AUC-ROC будет равен 0.5.\n",
    "\n",
    "\n",
    "Пусть метки классов $Y \\in \\{-1, +1\\}$\n",
    "\n",
    "$b(x_i) = 1, y_i = (-1) ^ i$"
   ]
  },
  {
   "cell_type": "markdown",
   "metadata": {
    "collapsed": true
   },
   "source": [
    "**Задание**\n",
    "\n",
    " Верно ли, что классификаторы из предыдущей части действуют путем сравнения некоторой оценки принадлежности положительному классу с порогом? Что это за оценки принадлежности? Какие пороги были выбраны?\n",
    " \n",
    " Для всех моделей, построенных в предыдущем задании:\n",
    "- Постройте ROC и Precision/Recall кривые в одних координатных осях, линиями разных цветов. Добавьте легенду: какая кривая соответствует какому классификатору.\n",
    "- Сравните значения AUC-ROC.\n",
    "\n",
    "Какой максимальной полноты определения спама достигают построенные классификаторы, если перед вами стоит жесткое ограничение: точность классификатора не может быть меньше 90%?\n",
    "\n"
   ]
  },
  {
   "cell_type": "markdown",
   "metadata": {},
   "source": [
    "** Ответ: **\n",
    "Да верно. В KNN оценкой принадлежности является $\\frac{\\text{количество соседей с классом 1}}{k}$, а сравнение проводится с порогом $\\frac{1}{2}$. Т.е., если больше половины соседей имеют класс 1, присваиваем данному объекту тоже класс 1.\n",
    "\n",
    "В классификаторе, который выдает константу, сравнение вероятности принадлежности классу происходит с произвольным числом, больше 1 (или меньше -1 - в зависимости от того, какой из классов предсказывает константа). Таким образом у нас всегда вероятность всегда меньше (больше) пороговой и классификатор выдает только один класс.\n",
    "\n",
    "В дереве в каждой вершине выбирается какой-то признак и подбирается порог. После этого происходит сравнение значения данного признака с порогом. Пусть после таких сравнений наш элемент попал в лист l. Тогда вероятность элемента принадлежности классу 1 - это доля объектов тренировочной выборки с классом 1 в этом листе. Далее просто происходит сравнение данной вероятности с $\\frac{1}{2}$"
   ]
  },
  {
   "cell_type": "code",
   "execution_count": 20,
   "metadata": {
    "collapsed": true
   },
   "outputs": [],
   "source": [
    "from sklearn.metrics import roc_curve, roc_auc_score, precision_recall_curve\n",
    "import seaborn as sns"
   ]
  },
  {
   "cell_type": "code",
   "execution_count": 21,
   "metadata": {
    "collapsed": false
   },
   "outputs": [],
   "source": [
    "fpr = []\n",
    "tpr = []\n",
    "labels = ['tree', 'knn', 'knn_normalized', 'const']\n",
    "auc_score = []\n",
    "classifiers = [(clf, X_test_normalized), (knn_clf, X_test), (knn_clf_normalized, X_test_normalized), (dummy_clf, X_test)]\n",
    "for i in range(4) :\n",
    "    c, X = classifiers[i]\n",
    "    y_pred = c.predict_proba(X)[:,1]\n",
    "    auc_score.append(roc_auc_score(y_test, y_pred))\n",
    "    fp, tp, _ = roc_curve(y_test, y_pred)\n",
    "    fpr.append(fp)\n",
    "    tpr.append(tp)"
   ]
  },
  {
   "cell_type": "code",
   "execution_count": 22,
   "metadata": {
    "collapsed": false
   },
   "outputs": [
    {
     "data": {
      "text/plain": [
       "<matplotlib.text.Text at 0x7f8bbb41fa90>"
      ]
     },
     "execution_count": 22,
     "metadata": {},
     "output_type": "execute_result"
    },
    {
     "data": {
      "image/png": "[encoded data removed]",
      "text/plain": [
       "<matplotlib.figure.Figure at 0x7f8bbb932198>"
      ]
     },
     "metadata": {},
     "output_type": "display_data"
    }
   ],
   "source": [
    "plt.figure(figsize=(20,10))\n",
    "for i in range(4):\n",
    "    plt.plot(fpr[i], tpr[i], label=labels[i] + ',   roc-auc: {:.4f}'.format(auc_score[i]))\n",
    "plt.legend(loc='center right', fontsize='x-large')\n",
    "plt.xlabel('FPR', fontsize='large')\n",
    "plt.ylabel('TPR', fontsize='large')\n",
    "plt.title('ROC-curves', fontsize='large')"
   ]
  },
  {
   "cell_type": "code",
   "execution_count": 23,
   "metadata": {
    "collapsed": false
   },
   "outputs": [],
   "source": [
    "pr = []\n",
    "rec = []\n",
    "for i in range(4):\n",
    "    c, X = classifiers[i]\n",
    "    y_pred = c.predict_proba(X)[:,1]\n",
    "    precision, recall, _ = precision_recall_curve(y_test, y_pred)\n",
    "    pr.append(precision)\n",
    "    rec.append(recall)"
   ]
  },
  {
   "cell_type": "code",
   "execution_count": 24,
   "metadata": {
    "collapsed": false
   },
   "outputs": [
    {
     "data": {
      "text/plain": [
       "<matplotlib.text.Text at 0x7f8bb76f1e48>"
      ]
     },
     "execution_count": 24,
     "metadata": {},
     "output_type": "execute_result"
    },
    {
     "data": {
      "image/png": "[encoded data removed]",
      "text/plain": [
       "<matplotlib.figure.Figure at 0x7f8bbb485550>"
      ]
     },
     "metadata": {},
     "output_type": "display_data"
    }
   ],
   "source": [
    "plt.figure(figsize=(20,10))\n",
    "labels = ['tree', 'knn', 'knn_normalized', 'const']\n",
    "for i in range(4):\n",
    "    plt.plot(rec[i], pr[i], label=labels[i])\n",
    "plt.legend(loc='center left', fontsize='x-large')\n",
    "plt.xlabel('Recall', fontsize='large')\n",
    "plt.ylabel('Precision', fontsize='large')\n",
    "plt.axhline(y=0.9, xmin=0, xmax=1, hold=None, color='black')\n",
    "plt.title('PR-curves', fontsize='large')"
   ]
  },
  {
   "cell_type": "markdown",
   "metadata": {},
   "source": [
    "Черная линия соответствует уровню точности 0.9. Пересечения ее с различными PR-кривыми дают ответ на вопрос о максимальной полноте при заданном минимальном уровне точности."
   ]
  },
  {
   "cell_type": "markdown",
   "metadata": {
    "collapsed": true
   },
   "source": [
    "### Кросс-валидация и подбор параметров"
   ]
  },
  {
   "cell_type": "markdown",
   "metadata": {
    "collapsed": true
   },
   "source": [
    "Каждая модель машинного обучения имеет множество структурных параметров и параметров обучения: число соседей и тип функции расстояния в KNN, максимальная высота дерева, минимальное число объектов в листе дерева и т.д. Нет универсальных наборов параметров, оптимально работающих во всех задачах, для каждой задачи нужно подбирать свой набор параметров.\n",
    "\n",
    "Для оптимизации параметров модели часто используют перебор по сетке (grid search): для каждого параметра выбирается несколько значений, перебираются все комбинации значений параметров и выбирается комбинация, на которой модель показывает лучшее качество (с точки зрения метрики, которая оптимизируется).\n",
    "\n",
    "Сравнение большого числа моделей при переборе параметров приводит к ситуации, когда лучшая на тестовой подвыборке модель не сохраняет свои качества на новых данных. Можно сказать, что происходит переобучение на тестовую выборку.\n",
    "\n",
    "Для устранения этой проблемы, данные разбивают на 3 непересекающихся подвыборки: обучение (train), валидация (validation) и контроль (test)."
   ]
  },
  {
   "cell_type": "markdown",
   "metadata": {
    "collapsed": true
   },
   "source": [
    "Валидационную подвыборку используют для сравнения моделей, а test — для окончательной оценки качества и сравнения семейств моделей с подобранными параметрами.\n",
    "\n",
    "Более надежный способ объективного сравнения моделей — кросс-валидация. Существуют различные схемы кросс-валидации:\n",
    "\n",
    "- Leave-One-Out\n",
    "- K-Fold\n",
    "- Многократное случайное разбиение выборки\n",
    "Кросс-валидация вычислительно затратна, особенно если вы делаете перебор по сетке с очень большим числом комбинаций. С учетом конечности времени на выполнение задания, возникает ряд компромиссов:\n",
    "\n",
    "- сетку можно делать более разреженной, перебирая меньше значений каждого параметра, но в таком случае можно пропустить хорошую комбинацию параметров;\n",
    "- кросс-валидацию можно делать с меньшим числом разбиений или фолдов, но в таком случае оценка качества кросс-валидации становится более шумной и увеличивается риск выбрать неоптимальный набор параметров из-за случайности разбиения;\n",
    "- параметры можно оптимизировать последовательно (жадно) — один за другим, а не перебирать все комбинации; такая стратегия не всегда приводит к оптимальному набору;\n",
    "- перебирать не все комбинации параметров, а небольшое число случайно выбранных."
   ]
  },
  {
   "cell_type": "markdown",
   "metadata": {
    "collapsed": true
   },
   "source": [
    "**Задание**\n",
    "- Выберите схему кросс-валидаци, одну из перечисленных выше. Зафиксируйте разбиение кросс-валидации обучающей выборки. Кросс-валидировать нужно по выборке train из предыдущих заданий, test должен остаться независимым. Обратите внимание: при сравнении моделей, набор разбиений кросс-валидации не должен меняться, должен быть строго фиксированным.\n",
    "- Выберите одну метрику, которую будете оптимизировать при переборе параметров. Например, можно взять AUC-ROC.\n",
    "- Найдите оптимальный набор параметров дерева, перебрав значения параметров по сетке. Параметры для настройки: критерий разбиения, максимальная глубина, число признаков для каждого узла, минимальное число объектов в листе (или часть из этих параметров).\n",
    "- Найдите оптимальный набор параметров для KNN, перебрав значения параметров по сетке. Параметры для настройки: число соседей, функция расстояния, схема взвешивания (или часть из этих параметров).\n",
    "- Сравните полученные модели с моделями из предыдущих заданий. Сравнение необходимо проводить на тестовой выборке, которая не участвовала в подборе и обучении. Сравнение нужно проводить только по метрике которая оптимизировалась."
   ]
  },
  {
   "cell_type": "markdown",
   "metadata": {},
   "source": [
    "<h1 align=\"center\">Примеры</h1> "
   ]
  },
  {
   "cell_type": "code",
   "execution_count": 25,
   "metadata": {
    "collapsed": true
   },
   "outputs": [],
   "source": [
    "from sklearn.grid_search import GridSearchCV"
   ]
  },
  {
   "cell_type": "markdown",
   "metadata": {},
   "source": [
    "### Tree"
   ]
  },
  {
   "cell_type": "code",
   "execution_count": 35,
   "metadata": {
    "collapsed": false
   },
   "outputs": [
    {
     "name": "stdout",
     "output_type": "stream",
     "text": [
      "Fitting 4 folds for each of 252 candidates, totalling 1008 fits\n"
     ]
    },
    {
     "name": "stderr",
     "output_type": "stream",
     "text": [
      "[Parallel(n_jobs=4)]: Done 420 tasks      | elapsed:    3.2s\n",
      "[Parallel(n_jobs=4)]: Done 1008 out of 1008 | elapsed:    8.6s finished\n"
     ]
    },
    {
     "data": {
      "text/plain": [
       "GridSearchCV(cv=4, error_score='raise',\n",
       "       estimator=DecisionTreeClassifier(class_weight=None, criterion='gini', max_depth=7,\n",
       "            max_features=None, max_leaf_nodes=None, min_samples_leaf=1,\n",
       "            min_samples_split=2, min_weight_fraction_leaf=0.0,\n",
       "            presort=False, random_state=727, splitter='best'),\n",
       "       fit_params={}, iid=True, n_jobs=4,\n",
       "       param_grid={'criterion': ['gini', 'entropy'], 'min_samples_leaf': [1, 3, 5, 7, 9, 11], 'max_features': ['sqrt', 'log2', None], 'max_depth': [3, 4, 5, 6, 7, 8, 9]},\n",
       "       pre_dispatch='2*n_jobs', refit=True, scoring='roc_auc',\n",
       "       verbose=True)"
      ]
     },
     "execution_count": 35,
     "metadata": {},
     "output_type": "execute_result"
    }
   ],
   "source": [
    "params = {\n",
    "    'max_depth' : list(range(3,10)),\n",
    "    'criterion' : ['gini', 'entropy'],\n",
    "    'max_features': ['sqrt', 'log2', None],\n",
    "    'min_samples_leaf': list(range(1,12,2))\n",
    "}\n",
    "gs = GridSearchCV(clf, params, scoring='roc_auc', n_jobs=4, cv=4, verbose=True)\n",
    "gs.fit(X_train, y_train)"
   ]
  },
  {
   "cell_type": "code",
   "execution_count": 36,
   "metadata": {
    "collapsed": false
   },
   "outputs": [
    {
     "data": {
      "text/plain": [
       "(0.95137929972070245,\n",
       " {'criterion': 'entropy',\n",
       "  'max_depth': 8,\n",
       "  'max_features': None,\n",
       "  'min_samples_leaf': 9})"
      ]
     },
     "execution_count": 36,
     "metadata": {},
     "output_type": "execute_result"
    }
   ],
   "source": [
    "gs.best_score_, gs.best_params_"
   ]
  },
  {
   "cell_type": "code",
   "execution_count": 39,
   "metadata": {
    "collapsed": false
   },
   "outputs": [
    {
     "data": {
      "text/plain": [
       "0.96097292616789876"
      ]
     },
     "execution_count": 39,
     "metadata": {},
     "output_type": "execute_result"
    }
   ],
   "source": [
    "y_pred = gs.predict_proba(X_test)[:,1]\n",
    "roc_auc_score(y_test, y_pred)"
   ]
  },
  {
   "cell_type": "markdown",
   "metadata": {},
   "source": [
    "### KNN"
   ]
  },
  {
   "cell_type": "code",
   "execution_count": 42,
   "metadata": {
    "collapsed": false
   },
   "outputs": [
    {
     "name": "stdout",
     "output_type": "stream",
     "text": [
      "Fitting 4 folds for each of 54 candidates, totalling 216 fits\n"
     ]
    },
    {
     "name": "stderr",
     "output_type": "stream",
     "text": [
      "[Parallel(n_jobs=4)]: Done 144 tasks      | elapsed:    2.6s\n",
      "[Parallel(n_jobs=4)]: Done 216 out of 216 | elapsed:    4.3s finished\n"
     ]
    },
    {
     "data": {
      "text/plain": [
       "(0.91553817286063588,\n",
       " {'metric': 'manhattan', 'n_neighbors': 15, 'weights': 'distance'})"
      ]
     },
     "execution_count": 42,
     "metadata": {},
     "output_type": "execute_result"
    }
   ],
   "source": [
    "params = {\n",
    "    'n_neighbors' : list(range(3,20,2)),\n",
    "    'weights' : ['uniform', 'distance'],\n",
    "    'metric': ['euclidean', 'chebyshev', 'manhattan']\n",
    "}\n",
    "gs = GridSearchCV(knn_clf, params, scoring='roc_auc', n_jobs=4, cv=4, verbose=True)\n",
    "gs.fit(X_train, y_train)\n",
    "gs.best_score_, gs.best_params_"
   ]
  },
  {
   "cell_type": "code",
   "execution_count": 43,
   "metadata": {
    "collapsed": false
   },
   "outputs": [
    {
     "data": {
      "text/plain": [
       "0.91911053818884936"
      ]
     },
     "execution_count": 43,
     "metadata": {},
     "output_type": "execute_result"
    }
   ],
   "source": [
    "y_pred = gs.predict_proba(X_test)[:,1]\n",
    "roc_auc_score(y_test, y_pred)"
   ]
  },
  {
   "cell_type": "markdown",
   "metadata": {},
   "source": [
    "### KNN normalized"
   ]
  },
  {
   "cell_type": "code",
   "execution_count": 44,
   "metadata": {
    "collapsed": false
   },
   "outputs": [
    {
     "name": "stdout",
     "output_type": "stream",
     "text": [
      "Fitting 4 folds for each of 54 candidates, totalling 216 fits\n"
     ]
    },
    {
     "name": "stderr",
     "output_type": "stream",
     "text": [
      "[Parallel(n_jobs=4)]: Done  42 tasks      | elapsed:    5.1s\n",
      "[Parallel(n_jobs=4)]: Done 192 tasks      | elapsed:   21.9s\n",
      "[Parallel(n_jobs=4)]: Done 216 out of 216 | elapsed:   24.8s finished\n"
     ]
    },
    {
     "data": {
      "text/plain": [
       "(0.96286009379307447,\n",
       " {'metric': 'manhattan', 'n_neighbors': 19, 'weights': 'distance'})"
      ]
     },
     "execution_count": 44,
     "metadata": {},
     "output_type": "execute_result"
    }
   ],
   "source": [
    "params = {\n",
    "    'n_neighbors' : list(range(3,20,2)),\n",
    "    'weights' : ['uniform', 'distance'],\n",
    "    'metric': ['euclidean', 'chebyshev', 'manhattan']\n",
    "}\n",
    "gs = GridSearchCV(knn_clf, params, scoring='roc_auc', n_jobs=4, cv=4, verbose=True)\n",
    "gs.fit(X_train_normalized, y_train)\n",
    "gs.best_score_, gs.best_params_"
   ]
  },
  {
   "cell_type": "code",
   "execution_count": 45,
   "metadata": {
    "collapsed": false
   },
   "outputs": [
    {
     "data": {
      "text/plain": [
       "0.89869936880894019"
      ]
     },
     "execution_count": 45,
     "metadata": {},
     "output_type": "execute_result"
    }
   ],
   "source": [
    "y_pred = gs.predict_proba(X_test)[:,1]\n",
    "roc_auc_score(y_test, y_pred)"
   ]
  },
  {
   "cell_type": "markdown",
   "metadata": {},
   "source": [
    "## Обучение решающего дерева"
   ]
  },
  {
   "cell_type": "code",
   "execution_count": 46,
   "metadata": {
    "collapsed": true
   },
   "outputs": [],
   "source": [
    "from sklearn.datasets import load_iris\n",
    "from sklearn.tree import DecisionTreeClassifier\n",
    "\n",
    "iris_data = load_iris()\n",
    "X, y = iris_data.data, iris_data.target\n",
    "\n",
    "clf = DecisionTreeClassifier(max_depth=3).fit(X, y)\n",
    "\n",
    "y_pred = clf.predict(X)"
   ]
  },
  {
   "cell_type": "markdown",
   "metadata": {},
   "source": [
    "#### Важность признаков"
   ]
  },
  {
   "cell_type": "markdown",
   "metadata": {},
   "source": [
    "Важность признаков вычисляется на основании частоты разбиения по признаку и глубины узлов дерева в которых происходило разбиение по признаку."
   ]
  },
  {
   "cell_type": "code",
   "execution_count": 49,
   "metadata": {
    "collapsed": false
   },
   "outputs": [
    {
     "name": "stdout",
     "output_type": "stream",
     "text": [
      "2 petal length (cm), importance = 0.59\n",
      "3 petal width (cm), importance = 0.41\n",
      "1 sepal width (cm), importance = 0.00\n",
      "0 sepal length (cm), importance = 0.00\n"
     ]
    }
   ],
   "source": [
    "most_important_features = argsort(clf.feature_importances_)[::-1]\n",
    "for idx in most_important_features:\n",
    "    print ('%d %s, importance = %.2f' % (idx, iris_data.feature_names[idx], clf.feature_importances_[idx]))"
   ]
  },
  {
   "cell_type": "markdown",
   "metadata": {},
   "source": [
    "#### Ошибочно классифицированные объекты обучающей выборки"
   ]
  },
  {
   "cell_type": "code",
   "execution_count": 50,
   "metadata": {
    "collapsed": false
   },
   "outputs": [
    {
     "data": {
      "text/plain": [
       "<matplotlib.text.Text at 0x7f8bd5cc3c88>"
      ]
     },
     "execution_count": 50,
     "metadata": {},
     "output_type": "execute_result"
    },
    {
     "data": {
      "image/png": "[encoded data removed]",
      "text/plain": [
       "<matplotlib.figure.Figure at 0x7f8bbb398f28>"
      ]
     },
     "metadata": {},
     "output_type": "display_data"
    }
   ],
   "source": [
    "xind, yind = most_important_features[0], most_important_features[1]\n",
    "err = (y != y_pred)\n",
    "scatter(X[err, xind], X[err, yind], c=y_pred[err], marker='x', s=80, linewidths=2)\n",
    "scatter(X[:, xind], X[:, yind], c=y)\n",
    "xlabel(iris_data.feature_names[xind])\n",
    "ylabel(iris_data.feature_names[yind])\n",
    "title(u'Classification errors')"
   ]
  },
  {
   "cell_type": "markdown",
   "metadata": {},
   "source": [
    "#### Визуализация дерева"
   ]
  },
  {
   "cell_type": "code",
   "execution_count": 51,
   "metadata": {
    "collapsed": true
   },
   "outputs": [],
   "source": [
    "from sklearn.tree import export_graphviz\n",
    "export_graphviz(clf, out_file='tree.dot', feature_names=iris_data.feature_names)"
   ]
  },
  {
   "cell_type": "code",
   "execution_count": 52,
   "metadata": {
    "collapsed": true
   },
   "outputs": [],
   "source": [
    "!dot -Tpng tree.dot -o tree.png"
   ]
  },
  {
   "cell_type": "code",
   "execution_count": 53,
   "metadata": {
    "collapsed": false
   },
   "outputs": [
    {
     "data": {
      "image/png": "[encoded data removed]",
      "text/plain": [
       "<IPython.core.display.Image object>"
      ]
     },
     "execution_count": 53,
     "metadata": {},
     "output_type": "execute_result"
    }
   ],
   "source": [
    "from IPython.display import Image\n",
    "Image('tree.png')"
   ]
  },
  {
   "cell_type": "markdown",
   "metadata": {},
   "source": [
    "## Кросс-валидация"
   ]
  },
  {
   "cell_type": "code",
   "execution_count": 54,
   "metadata": {
    "collapsed": true
   },
   "outputs": [],
   "source": [
    "from sklearn.datasets import load_boston\n",
    "boston_data = load_boston()\n",
    "X, y = boston_data.data, boston_data.target"
   ]
  },
  {
   "cell_type": "markdown",
   "metadata": {},
   "source": [
    "Зафиксируем разбиение для 5-fold кросс-валидации."
   ]
  },
  {
   "cell_type": "code",
   "execution_count": 55,
   "metadata": {
    "collapsed": true
   },
   "outputs": [],
   "source": [
    "from sklearn.cross_validation import KFold\n",
    "cv = KFold(n=len(y), n_folds=5, shuffle=True, random_state=123)"
   ]
  },
  {
   "cell_type": "markdown",
   "metadata": {},
   "source": [
    "Обратите внимание на аргументы:\n",
    " \n",
    "\n",
    "- shuffle=True — без него фолды будут формироваться из последовательно идущих объектов, что нехорошо — в этом поможет убедиться задание в части 2;\n",
    "- random_state — если этот параметр не выставить, то после каждого запуска команды будет генерироваться новое разбиение на фолды; крайне желательно, чтобы ваши эксперименты были в точности воспроизводимы — это упрощает исследования.\n",
    "\n",
    "\n",
    "Оценим качество регрессии KNN на наборе Boston Housing для различных значений K (число соседей). В качестве метрики качества возьмем модуль отклонения:\n",
    "\n",
    " $MAE=\\sum_i|y_{pred,i}-y_i|$\n"
   ]
  },
  {
   "cell_type": "code",
   "execution_count": 56,
   "metadata": {
    "collapsed": true
   },
   "outputs": [],
   "source": [
    "from sklearn.neighbors import KNeighborsRegressor\n",
    "from sklearn.cross_validation import cross_val_score"
   ]
  },
  {
   "cell_type": "markdown",
   "metadata": {},
   "source": [
    "Переберем ряд значений n_neigbors, для каждого оценим среднее и стандартное отклонение MAE по кросс-валидации. Магия %%time позволяет измерить время работы ячейки с кодом."
   ]
  },
  {
   "cell_type": "code",
   "execution_count": 58,
   "metadata": {
    "collapsed": false
   },
   "outputs": [
    {
     "name": "stdout",
     "output_type": "stream",
     "text": [
      "CPU times: user 277 ms, sys: 0 ns, total: 277 ms\n",
      "Wall time: 274 ms\n"
     ]
    }
   ],
   "source": [
    "%%time \n",
    "\n",
    "k_values = list(range(1, 10)) + list(range(10, 50, 5))\n",
    "mae_cv_mean = []\n",
    "mae_cv_std = []\n",
    "\n",
    "for k in k_values:\n",
    "    clf = KNeighborsRegressor(n_neighbors=k)\n",
    "    mae_folds = -cross_val_score(clf, X, y, cv=cv, scoring='mean_absolute_error')\n",
    "    mae_cv_mean.append(mae_folds.mean())\n",
    "    mae_cv_std.append(mae_folds.std())"
   ]
  },
  {
   "cell_type": "markdown",
   "metadata": {},
   "source": [
    "#### График, демонстрирующий оптимальность выбора числа соседей"
   ]
  },
  {
   "cell_type": "code",
   "execution_count": 59,
   "metadata": {
    "collapsed": false
   },
   "outputs": [
    {
     "data": {
      "text/plain": [
       "<matplotlib.text.Annotation at 0x7f8bd53c6f28>"
      ]
     },
     "execution_count": 59,
     "metadata": {},
     "output_type": "execute_result"
    },
    {
     "data": {
      "image/png": "[encoded data removed]",
      "text/plain": [
       "<matplotlib.figure.Figure at 0x7f8bbb398630>"
      ]
     },
     "metadata": {},
     "output_type": "display_data"
    }
   ],
   "source": [
    "figure(figsize=(8, 4))\n",
    "errorbar(k_values, mae_cv_mean, yerr=array(mae_cv_std)*2)\n",
    "title('Choosing optimal number of neighbors with 5-Fold Cross-Validation')\n",
    "xlabel('n_neighbors')\n",
    "ylabel('mean absolute error')\n",
    "\n",
    "opt_idx = argmin(mae_cv_mean)\n",
    "optimal_k = k_values[opt_idx]\n",
    "optimal_mae = mae_cv_mean[opt_idx]\n",
    "annotate('n_neighbors=%d\\nMAE=%f' % (optimal_k, optimal_mae), \n",
    "         xy=(opt_idx, optimal_mae), xytext=(30, optimal_mae), \n",
    "         arrowprops=dict(facecolor='black', shrink=0.05, alpha=0.5))"
   ]
  }
 ],
 "metadata": {
  "kernelspec": {
   "display_name": "Python 3",
   "language": "python",
   "name": "python3"
  },
  "language_info": {
   "codemirror_mode": {
    "name": "ipython",
    "version": 3
   },
   "file_extension": ".py",
   "mimetype": "text/x-python",
   "name": "python",
   "nbconvert_exporter": "python",
   "pygments_lexer": "ipython3",
   "version": "3.5.2"
  }
 },
 "nbformat": 4,
 "nbformat_minor": 0
}
