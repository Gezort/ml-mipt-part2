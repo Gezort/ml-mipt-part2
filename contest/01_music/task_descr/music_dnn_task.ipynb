{
 "cells": [
  {
   "cell_type": "code",
   "execution_count": 2,
   "metadata": {
    "collapsed": false
   },
   "outputs": [
    {
     "name": "stdout",
     "output_type": "stream",
     "text": [
      "Populating the interactive namespace from numpy and matplotlib\n"
     ]
    }
   ],
   "source": [
    "#coding: utf-8\n",
    "\n",
    "import warnings\n",
    "warnings.simplefilter(\"ignore\")\n",
    "\n",
    "import os\n",
    "import sys \n",
    "import wave\n",
    "import time\n",
    "import librosa\n",
    "import numpy as np\n",
    "import seaborn as sns\n",
    "from utils import *\n",
    "import matplotlib.pyplot as plt\n",
    "from IPython.display import Audio\n",
    "from StringIO import StringIO\n",
    "\n",
    "%pylab inline\n",
    "\n",
    "# sudo pip install librosa\n",
    "# ubuntu: sudo apt-get install libav-tools\n",
    "# OSX   : brew install libav OMP_NUM_THREADS=2"
   ]
  },
  {
   "cell_type": "markdown",
   "metadata": {},
   "source": [
    "# Get the Data"
   ]
  },
  {
   "cell_type": "markdown",
   "metadata": {},
   "source": [
    "Датасет для контеста помещен вот здесь: TODO (внимание! файл весит 3,5 Гб)\n",
    "\n",
    "Он распаковывается в папку \"musicdata\". Все пути в этом ноутбуке будут относительно этой папки: \"./musicdata/*\"."
   ]
  },
  {
   "cell_type": "code",
   "execution_count": 7,
   "metadata": {
    "collapsed": false
   },
   "outputs": [],
   "source": [
    "BP = \"./musicdata/\""
   ]
  },
  {
   "cell_type": "markdown",
   "metadata": {},
   "source": [
    "# Just Sound"
   ]
  },
  {
   "cell_type": "markdown",
   "metadata": {},
   "source": [
    "Для начала попробуем поработать со звуком -- послушайте люббой трек, постройте график сырых данных и спектрограмму."
   ]
  },
  {
   "cell_type": "code",
   "execution_count": 3,
   "metadata": {
    "collapsed": false
   },
   "outputs": [],
   "source": [
    "import IPython\n",
    "from IPython import display\n",
    "\n",
    "def Audio(url):\n",
    "    return display.HTML(\"<center><audio controls><source src='{}'></audio>\".format(url))"
   ]
  },
  {
   "cell_type": "code",
   "execution_count": 10,
   "metadata": {
    "collapsed": false
   },
   "outputs": [
    {
     "data": {
      "text/html": [
       "<center><audio controls><source src='./genres/tmp.wav'></audio>"
      ],
      "text/plain": [
       "<IPython.core.display.HTML object>"
      ]
     },
     "execution_count": 10,
     "metadata": {},
     "output_type": "execute_result"
    }
   ],
   "source": [
    "sound_file = './genres/blues/blues.00000.au'\n",
    "\n",
    "y, sr = librosa.load(sound_file)\n",
    "librosa.output.write_wav(os.path.join(BP, \"audiosamples\", \"short_206024.wav\"), y, sr, norm=True)\n",
    "Audio(url='./genres/tmp.wav')"
   ]
  },
  {
   "cell_type": "markdown",
   "metadata": {},
   "source": [
    "# Sound as 1D-Signal"
   ]
  },
  {
   "cell_type": "code",
   "execution_count": null,
   "metadata": {
    "collapsed": false
   },
   "outputs": [],
   "source": [
    "plt.figure(figsize=(20,4))\n",
    "# \n",
    "# Используйте pylab.plot для построения графика, используйте y, sr\n",
    "#\n",
    "pylab.xlim([0, 10])\n",
    "pylab.show()"
   ]
  },
  {
   "cell_type": "markdown",
   "metadata": {},
   "source": [
    "# Sound as 2D-Signal"
   ]
  },
  {
   "cell_type": "markdown",
   "metadata": {},
   "source": [
    "Нашу цель слелать из предыдущего графика картинку -- для] этого нам нужно оценить частоты в каждый момент времени; Блазо за нас это умеет делать librosa и внутри там STFFT используйте librosa.feature.melspectrogram -- для получения спектрограммы, и librosa.logamplitude для выраынивания диапозонов частот. \n",
    "\n",
    "help: https://gist.github.com/mailletf/3484932dd29d62b36092"
   ]
  },
  {
   "cell_type": "code",
   "execution_count": null,
   "metadata": {
    "collapsed": false
   },
   "outputs": [],
   "source": [
    "S = <librosa.feature.melspectrogram>\n",
    "log_S = <librosa.logamplitude>"
   ]
  },
  {
   "cell_type": "markdown",
   "metadata": {},
   "source": [
    "Нарисуйте спектрограмму, получилась красивая картинка?"
   ]
  },
  {
   "cell_type": "code",
   "execution_count": null,
   "metadata": {
    "collapsed": false
   },
   "outputs": [],
   "source": [
    "plt.figure(figsize=(20,4))\n",
    "librosa.display.specshow(log_S, sr=sr, x_axis='time', y_axis='mel', cmap='hot')\n",
    "plt.title('mel power spectrogram')\n",
    "plt.colorbar(format='%+02.0f dB')\n",
    "plt.tight_layout()"
   ]
  },
  {
   "cell_type": "markdown",
   "metadata": {},
   "source": [
    "# Prepare the Data"
   ]
  },
  {
   "cell_type": "markdown",
   "metadata": {},
   "source": [
    "В этой секции мы создадим датасет, прочитав все данные."
   ]
  },
  {
   "cell_type": "code",
   "execution_count": 1,
   "metadata": {
    "collapsed": true
   },
   "outputs": [],
   "source": [
    "import numpy as np\n",
    "X = np.load(os.path.join(BP, \"spectrograms\", \"spectrograms1.pcl\"))\n",
    "..."
   ]
  },
  {
   "cell_type": "markdown",
   "metadata": {},
   "source": [
    "Здесь вы должны получить train genres. Они идут подряд в соответствии с последовательностью треков в файлах с данными. Для содержимого первых шести файлов у вас есть жанры, а для последнего файла, вам их нужно предсказать."
   ]
  },
  {
   "cell_type": "code",
   "execution_count": null,
   "metadata": {
    "collapsed": true
   },
   "outputs": [],
   "source": [
    "with open(os.path.join(BP, \"train_genres.txt\"), \"rt\") as f_in:\n",
    "    ..."
   ]
  },
  {
   "cell_type": "code",
   "execution_count": null,
   "metadata": {
    "collapsed": true
   },
   "outputs": [],
   "source": [
    "num_classes = len(set(train_genres))"
   ]
  },
  {
   "cell_type": "markdown",
   "metadata": {},
   "source": [
    "# Nearest Neighbors genre classification"
   ]
  },
  {
   "cell_type": "markdown",
   "metadata": {},
   "source": [
    "Let's try to solve simularity task by nearest neibor approuch.\n",
    "\n",
    "<img src=\"./img/nn.png\" width=\"300\">"
   ]
  },
  {
   "cell_type": "markdown",
   "metadata": {},
   "source": [
    "Перемешаем датасет -- используйте np.random.permutation и индексацию a[np.random.permutation]."
   ]
  },
  {
   "cell_type": "code",
   "execution_count": null,
   "metadata": {
    "collapsed": true
   },
   "outputs": [],
   "source": [
    "perm = np.random.permutation(len(y))\n",
    "X, y = ????, ?????\n",
    "Xreshape = X.reshape(X.shape[0], X.shape[1], X.shape[2])"
   ]
  },
  {
   "cell_type": "markdown",
   "metadata": {},
   "source": [
    "Разобьем датасет на трейн и валидацию 80/20%."
   ]
  },
  {
   "cell_type": "code",
   "execution_count": null,
   "metadata": {
    "collapsed": false
   },
   "outputs": [],
   "source": [
    "X_train, X_valid = Xreshape[:10000], Xreshape[10000:]\n",
    "y_train, y_valid = y[:10000], y[10000:]"
   ]
  },
  {
   "cell_type": "markdown",
   "metadata": {},
   "source": [
    "Попробуем поклассифицировать жанры методом ближайших соседей."
   ]
  },
  {
   "cell_type": "code",
   "execution_count": null,
   "metadata": {
    "collapsed": false
   },
   "outputs": [],
   "source": [
    "from sklearn.metrics import accuracy_score\n",
    "from sklearn.neighbors import KNeighborsClassifier\n",
    "\n",
    "clf = ????\n",
    "clf = clf.fit???\n",
    "y_val_pred = clf.predict(X_valid.reshape((X_valid.shape[0], -1)))\n",
    "\n",
    "print accuracy_score(y_valid, y_val_pred)"
   ]
  },
  {
   "cell_type": "markdown",
   "metadata": {},
   "source": [
    "# Fully-Connected Neural Nets"
   ]
  },
  {
   "cell_type": "markdown",
   "metadata": {},
   "source": [
    "Использовать нейросети это хорошая идея, давайте начнем с полносвязных сетей."
   ]
  },
  {
   "cell_type": "code",
   "execution_count": null,
   "metadata": {
    "collapsed": false
   },
   "outputs": [],
   "source": [
    "import theano\n",
    "import lasagne\n",
    "import theano.tensor as T\n",
    "\n",
    "from utils import train_net"
   ]
  },
  {
   "cell_type": "markdown",
   "metadata": {},
   "source": [
    "Перемешаем и разобьем датасет."
   ]
  },
  {
   "cell_type": "code",
   "execution_count": null,
   "metadata": {
    "collapsed": true
   },
   "outputs": [],
   "source": [
    "perm = np.random.permutation(len(y))\n",
    "X, y = np.array(X)[perm].astype('float32'), np.array(y)[perm]\n",
    "Xreshape = X.reshape(X.shape[0], 1, X.shape[1], X.shape[2])\n",
    "\n",
    "X_train, X_valid = Xreshape[:10000], Xreshape[10000:]\n",
    "y_train, y_valid = y[:10000], y[10000:]"
   ]
  },
  {
   "cell_type": "code",
   "execution_count": null,
   "metadata": {
    "collapsed": false
   },
   "outputs": [],
   "source": [
    "input_X, target_y = T.tensor4(\"X\", dtype='float32'), T.vector(\"y\", dtype='int32')\n",
    "nn = lasagne.layers.InputLayer(shape=(None, 1, X.shape[1], X.shape[2]), input_var=input_X) \n",
    "\n",
    "nn = ????\n",
    "#\n",
    "# Используйте несколько 2-3 больших полносвязных слоя, обучилась ли сеть? если нет то почему?\n",
    "#\n",
    "\n",
    "y_predicted = lasagne.layers.get_output(nn)\n",
    "all_weights = lasagne.layers.get_all_params(nn)\n",
    "\n",
    "loss = lasagne.objectives.categorical_crossentropy(y_predicted, target_y).mean()\n",
    "accuracy = lasagne.objectives.categorical_accuracy(y_predicted, target_y).mean()\n",
    "updates_sgd = ???? выш любимый оптимизатор"
   ]
  },
  {
   "cell_type": "code",
   "execution_count": null,
   "metadata": {
    "collapsed": true
   },
   "outputs": [],
   "source": [
    "train_fun = theano.function([input_X, target_y], [loss, accuracy], allow_input_downcast=True, updates=updates_sgd)\n",
    "test_fun  = theano.function([input_X, target_y], [loss, accuracy], allow_input_downcast=True)"
   ]
  },
  {
   "cell_type": "code",
   "execution_count": null,
   "metadata": {
    "collapsed": false
   },
   "outputs": [],
   "source": [
    "%time conv_nn = train_net(nn, train_fun, test_fun, X_train, y_train, X_valid, y_valid, num_epochs=10, batch_size=50)"
   ]
  },
  {
   "cell_type": "markdown",
   "metadata": {},
   "source": [
    "# Convolution Neural Nets"
   ]
  },
  {
   "cell_type": "markdown",
   "metadata": {},
   "source": [
    "Да, вероятно, полносвязные сети не зажгли и knn не обогнали. Дпвайте попробуем сверточные, хороший ваиант делать одномерные свертки (сразу по всем частотам). Хотя двумерные тоже будут работать. \n",
    "\n",
    "Архитектуру можно подсмотреть тут -- http://benanne.github.io/2014/08/05/spotify-cnns.html."
   ]
  },
  {
   "cell_type": "code",
   "execution_count": null,
   "metadata": {
    "collapsed": false
   },
   "outputs": [],
   "source": [
    "import theano\n",
    "import lasagne\n",
    "import theano.tensor as T\n",
    "\n",
    "from utils import train_net"
   ]
  },
  {
   "cell_type": "code",
   "execution_count": null,
   "metadata": {
    "collapsed": true
   },
   "outputs": [],
   "source": [
    "perm = np.random.permutation(len(y))\n",
    "X, y = np.array(X)[perm].astype('float32'), np.array(y)[perm]\n",
    "Xreshape = X.reshape(X.shape[0], X.shape[1], X.shape[2])\n",
    "\n",
    "X_train, X_valid = Xreshape[:10000], Xreshape[10000:]\n",
    "y_train, y_valid = y[:10000], y[10000:]"
   ]
  },
  {
   "cell_type": "code",
   "execution_count": null,
   "metadata": {
    "collapsed": false
   },
   "outputs": [],
   "source": [
    "input_X, target_y = T.tensor3(\"X\", dtype='float64'), T.vector(\"y\", dtype='int32')\n",
    "nn = lasagne.layers.InputLayer(shape=(None, X.shape[1], X.shape[2]), input_var=input_X) \n",
    "\n",
    "nn = ??? Сделайте свою сеть используя -- Conv1DLayer + MaxPool1DLayer + DenseLayer\n",
    "\n",
    "nn = lasagne.layers.DenseLayer(nn, num_classes, nonlinearity=lasagne.nonlinearities.softmax)"
   ]
  },
  {
   "cell_type": "code",
   "execution_count": null,
   "metadata": {
    "collapsed": false
   },
   "outputs": [],
   "source": [
    "y_predicted = lasagne.layers.get_output(nn)\n",
    "all_weights = lasagne.layers.get_all_params(nn)\n",
    "\n",
    "loss = lasagne.objectives.categorical_crossentropy(y_predicted, target_y).mean()\n",
    "accuracy = lasagne.objectives.categorical_accuracy(y_predicted, target_y).mean()\n",
    "updates_sgd = lasagne.updates.adam(loss, all_weights)"
   ]
  },
  {
   "cell_type": "code",
   "execution_count": null,
   "metadata": {
    "collapsed": false
   },
   "outputs": [],
   "source": [
    "train_fun = theano.function([input_X, target_y], [loss, accuracy], allow_input_downcast=True, updates=updates_sgd)\n",
    "test_fun  = theano.function([input_X, target_y], [loss, accuracy], allow_input_downcast=True)"
   ]
  },
  {
   "cell_type": "code",
   "execution_count": null,
   "metadata": {
    "collapsed": false,
    "scrolled": false
   },
   "outputs": [],
   "source": [
    "Подумайте -- какой размер батча нужен и сколько эпох авы можете себе позволить\n",
    "%time conv_nn = train_net(nn, train_fun, test_fun, X_train, y_train, X_valid, y_valid, num_epochs=???, batch_size=??)"
   ]
  },
  {
   "cell_type": "markdown",
   "metadata": {},
   "source": [
    "Валидационная точность должна быть около 0.6, или лучше. "
   ]
  },
  {
   "cell_type": "markdown",
   "metadata": {},
   "source": [
    "Давайте нарисуем каждый второй фильтр -- можете дли Вы проинтерпретировать эти фильтры?"
   ]
  },
  {
   "cell_type": "code",
   "execution_count": null,
   "metadata": {
    "collapsed": false
   },
   "outputs": [],
   "source": [
    "plt.figure(figsize=(5, 5), dpi=500)\n",
    "W = lasagne.layers.get_all_params(nn)[0].get_value()\n",
    "W[::2, :, :] = 0.2\n",
    "W = np.hstack(W)\n",
    "pylab.imshow(W, cmap='hot', interpolation=\"nearest\")\n",
    "pylab.axis('off')\n",
    "pylab.show()"
   ]
  },
  {
   "cell_type": "markdown",
   "metadata": {},
   "source": [
    "# Maps of tracks by svd and tsne"
   ]
  },
  {
   "cell_type": "markdown",
   "metadata": {},
   "source": [
    "Класная идея посмотреть, как полученое представление оторажается с хохранением относительных расстояний на 2d. Испоьльзуйте TSNE ли PCA.\n",
    "\n",
    "Help: https://lts2.epfl.ch/blog/perekres/category/visualizing-hidden-structures-in-datasets-using-deep-learning/"
   ]
  },
  {
   "cell_type": "code",
   "execution_count": null,
   "metadata": {
    "collapsed": true
   },
   "outputs": [],
   "source": [
    "from sklearn.manifold import TSNE"
   ]
  },
  {
   "cell_type": "code",
   "execution_count": null,
   "metadata": {
    "collapsed": true
   },
   "outputs": [],
   "source": [
    "represent = lasagne.layers.get_output(nn.input_layer)\n",
    "represent_fun = theano.function([input_X], [represent], allow_input_downcast=True)"
   ]
  },
  {
   "cell_type": "code",
   "execution_count": null,
   "metadata": {
    "collapsed": false
   },
   "outputs": [],
   "source": [
    "f = lambda x: np.array(represent_fun([x])[0])\n",
    "track_vectors = map(f, X_train) + map(f, X_valid)\n",
    "track_vectors = np.concatenate(track_vectors, axis=0)\n",
    "\n",
    "track_labels = np.array(list(y_train) + list(y_valid))"
   ]
  },
  {
   "cell_type": "markdown",
   "metadata": {},
   "source": [
    "получите 2d вектора"
   ]
  },
  {
   "cell_type": "code",
   "execution_count": null,
   "metadata": {
    "collapsed": false
   },
   "outputs": [],
   "source": [
    "X_tsne = ????"
   ]
  },
  {
   "cell_type": "markdown",
   "metadata": {
    "collapsed": false
   },
   "source": [
    "нарисуйте получившиеся точки"
   ]
  },
  {
   "cell_type": "code",
   "execution_count": null,
   "metadata": {
    "collapsed": false
   },
   "outputs": [],
   "source": [
    "plt.figure(figsize=(10,10), dpi=500)\n",
    "colors = cm.hot(np.linspace(0, 1, len(id2gener)))\n",
    "\n",
    "for idx, gener in id2gener.items():\n",
    "    idx_ = np.where(track_labels == idx)\n",
    "    pylab.scatter(????, ????, c=colors[idx], cmap=cm.hot, label=gener,s=50)\n",
    "\n",
    "pylab.legend(loc=0, ncol=5)"
   ]
  }
 ],
 "metadata": {
  "kernelspec": {
   "display_name": "Python 2",
   "language": "python",
   "name": "python2"
  },
  "language_info": {
   "codemirror_mode": {
    "name": "ipython",
    "version": 2
   },
   "file_extension": ".py",
   "mimetype": "text/x-python",
   "name": "python",
   "nbconvert_exporter": "python",
   "pygments_lexer": "ipython2",
   "version": "2.7.12"
  }
 },
 "nbformat": 4,
 "nbformat_minor": 0
}
